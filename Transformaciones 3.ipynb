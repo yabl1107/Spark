{
  "nbformat": 4,
  "nbformat_minor": 0,
  "metadata": {
    "colab": {
      "provenance": []
    },
    "kernelspec": {
      "name": "python3",
      "display_name": "Python 3"
    },
    "language_info": {
      "name": "python"
    }
  },
  "cells": [
    {
      "cell_type": "code",
      "execution_count": 1,
      "metadata": {
        "id": "Pjd93issiidG"
      },
      "outputs": [],
      "source": [
        "from pyspark.sql import SparkSession"
      ]
    },
    {
      "cell_type": "code",
      "source": [
        "spark = SparkSession.builder.appName('test').getOrCreate()"
      ],
      "metadata": {
        "id": "DFoWBK_Qil3N"
      },
      "execution_count": 2,
      "outputs": []
    },
    {
      "cell_type": "markdown",
      "source": [
        "## Trabajo con Strings"
      ],
      "metadata": {
        "id": "TooNe0GRituH"
      }
    },
    {
      "cell_type": "code",
      "source": [
        "df = spark.read.parquet('/content/convertir')"
      ],
      "metadata": {
        "id": "J5IhztDtiqJv"
      },
      "execution_count": 20,
      "outputs": []
    },
    {
      "cell_type": "code",
      "source": [
        "df.printSchema()"
      ],
      "metadata": {
        "colab": {
          "base_uri": "https://localhost:8080/"
        },
        "id": "26oIItARi3o9",
        "outputId": "05662d00-e3a9-4b82-9beb-596dabd099d1"
      },
      "execution_count": 6,
      "outputs": [
        {
          "output_type": "stream",
          "name": "stdout",
          "text": [
            "root\n",
            " |-- date: string (nullable = true)\n",
            " |-- timestamp: string (nullable = true)\n",
            " |-- date_str: string (nullable = true)\n",
            " |-- ts_str: string (nullable = true)\n",
            "\n"
          ]
        }
      ]
    },
    {
      "cell_type": "code",
      "source": [
        "df.show(truncate=False)"
      ],
      "metadata": {
        "colab": {
          "base_uri": "https://localhost:8080/"
        },
        "id": "CdPx__7sjbfH",
        "outputId": "970ce043-bcac-41c1-a463-1f68e6a78401"
      },
      "execution_count": 17,
      "outputs": [
        {
          "output_type": "stream",
          "name": "stdout",
          "text": [
            "+----------+-----------------------+----------+----------------+\n",
            "|date      |timestamp              |date_str  |ts_str          |\n",
            "+----------+-----------------------+----------+----------------+\n",
            "|2021-01-01|2021-01-01 20:10:50.723|01-01-2021|18-08-2021 46:58|\n",
            "+----------+-----------------------+----------+----------------+\n",
            "\n"
          ]
        }
      ]
    },
    {
      "cell_type": "code",
      "source": [
        "from pyspark.sql.functions import col, to_date, to_timestamp"
      ],
      "metadata": {
        "id": "THk94Dwtjjhn"
      },
      "execution_count": null,
      "outputs": []
    },
    {
      "cell_type": "code",
      "source": [
        "from pyspark.sql import functions as F"
      ],
      "metadata": {
        "id": "ve6UPGAwjr9f"
      },
      "execution_count": 21,
      "outputs": []
    },
    {
      "cell_type": "code",
      "source": [
        "df2 = df.select(\n",
        "    F.to_date(F.col('date')).alias('date1'),\n",
        "    F.to_timestamp(F.col('timestamp')).alias('ts1'),\n",
        "    F.to_date(F.col('date_str'), 'dd-MM-yyyy').alias('date2'),\n",
        "    F.to_timestamp(F.col('ts_str'), 'dd-MM-yyyy mm:ss').alias('ts2')\n",
        ")"
      ],
      "metadata": {
        "id": "Sut063CPju8M"
      },
      "execution_count": 24,
      "outputs": []
    },
    {
      "cell_type": "code",
      "source": [
        "df2.printSchema()\n",
        "df2.show(truncate=False)"
      ],
      "metadata": {
        "colab": {
          "base_uri": "https://localhost:8080/"
        },
        "id": "g3VL497NkaLQ",
        "outputId": "a20db48e-043f-4502-873f-a9bf79b6c6ac"
      },
      "execution_count": 28,
      "outputs": [
        {
          "output_type": "stream",
          "name": "stdout",
          "text": [
            "root\n",
            " |-- date1: date (nullable = true)\n",
            " |-- ts1: timestamp (nullable = true)\n",
            " |-- date2: date (nullable = true)\n",
            " |-- ts2: timestamp (nullable = true)\n",
            "\n",
            "+----------+-----------------------+----------+-------------------+\n",
            "|date1     |ts1                    |date2     |ts2                |\n",
            "+----------+-----------------------+----------+-------------------+\n",
            "|2021-01-01|2021-01-01 20:10:50.723|2021-01-01|2021-08-18 00:46:58|\n",
            "+----------+-----------------------+----------+-------------------+\n",
            "\n"
          ]
        }
      ]
    },
    {
      "cell_type": "code",
      "source": [
        "df2.select(\n",
        "    F.date_format(F.col('date1'),\"dd-MM-yyyy\")\n",
        ").show()"
      ],
      "metadata": {
        "colab": {
          "base_uri": "https://localhost:8080/"
        },
        "id": "cs0KzM5glY__",
        "outputId": "7f201e3b-529c-4944-c891-802273fc660c"
      },
      "execution_count": 33,
      "outputs": [
        {
          "output_type": "stream",
          "name": "stdout",
          "text": [
            "+------------------------------+\n",
            "|date_format(date1, dd-MM-yyyy)|\n",
            "+------------------------------+\n",
            "|                    01-01-2021|\n",
            "+------------------------------+\n",
            "\n"
          ]
        }
      ]
    },
    {
      "cell_type": "code",
      "source": [
        "df = spark.read.parquet('/content/calculo.parquet')"
      ],
      "metadata": {
        "id": "alDt8RJSmrif"
      },
      "execution_count": 48,
      "outputs": []
    },
    {
      "cell_type": "code",
      "source": [
        "df.printSchema()"
      ],
      "metadata": {
        "colab": {
          "base_uri": "https://localhost:8080/"
        },
        "id": "Xs4OL95WmzBu",
        "outputId": "8cdddd72-9667-4721-fce9-46f5d4ffba11"
      },
      "execution_count": 49,
      "outputs": [
        {
          "output_type": "stream",
          "name": "stdout",
          "text": [
            "root\n",
            " |-- nombre: string (nullable = true)\n",
            " |-- fecha_ingreso: string (nullable = true)\n",
            " |-- fecha_salida: string (nullable = true)\n",
            " |-- baja_sistema: string (nullable = true)\n",
            "\n"
          ]
        }
      ]
    },
    {
      "cell_type": "code",
      "source": [
        "df.select(\n",
        "    F.date_diff(F.col('fecha_ingreso'),F.col('fecha_salida')).alias('diff ingreso-salida'),\n",
        "    F.months_between(F.col('fecha_ingreso'),F.col('fecha_salida')).alias('diff ingreso-salida months'),\n",
        "    F.last_day(F.col('fecha_salida')).alias('last day')\n",
        ").show()"
      ],
      "metadata": {
        "colab": {
          "base_uri": "https://localhost:8080/"
        },
        "id": "6CfgkX_umZBA",
        "outputId": "4bca5730-a0d7-4101-9057-3dda1c8b1352"
      },
      "execution_count": 50,
      "outputs": [
        {
          "output_type": "stream",
          "name": "stdout",
          "text": [
            "+-------------------+--------------------------+----------+\n",
            "|diff ingreso-salida|diff ingreso-salida months|  last day|\n",
            "+-------------------+--------------------------+----------+\n",
            "|               -317|              -10.41935484|2021-11-30|\n",
            "|               -292|               -9.61290323|2021-11-30|\n",
            "+-------------------+--------------------------+----------+\n",
            "\n"
          ]
        }
      ]
    },
    {
      "cell_type": "code",
      "source": [
        "df.show()"
      ],
      "metadata": {
        "colab": {
          "base_uri": "https://localhost:8080/"
        },
        "id": "WKCcdOp-nINr",
        "outputId": "0c50b330-bbe1-4f33-bfce-70a9df460e91"
      },
      "execution_count": 44,
      "outputs": [
        {
          "output_type": "stream",
          "name": "stdout",
          "text": [
            "+------+-------------+------------+-------------------+\n",
            "|nombre|fecha_ingreso|fecha_salida|       baja_sistema|\n",
            "+------+-------------+------------+-------------------+\n",
            "|  Jose|   2021-01-01|  2021-11-14|2021-10-14 15:35:59|\n",
            "|Mayara|   2021-02-06|  2021-11-25|2021-11-25 10:35:55|\n",
            "+------+-------------+------------+-------------------+\n",
            "\n"
          ]
        }
      ]
    },
    {
      "cell_type": "code",
      "source": [
        "df.select(\n",
        "    F.date_add(F.col('fecha_ingreso'),14).alias('mas 14 dias'),\n",
        "    F.date_sub(F.col('fecha_ingreso'),14).alias('menos 14 dias')\n",
        ").show()"
      ],
      "metadata": {
        "colab": {
          "base_uri": "https://localhost:8080/"
        },
        "id": "0UgXEVjhmoOg",
        "outputId": "63b853d5-f68b-4021-fb5b-e61ebd768cbd"
      },
      "execution_count": 46,
      "outputs": [
        {
          "output_type": "stream",
          "name": "stdout",
          "text": [
            "+-----------+-------------+\n",
            "|mas 14 dias|menos 14 dias|\n",
            "+-----------+-------------+\n",
            "| 2021-01-15|   2020-12-18|\n",
            "| 2021-02-20|   2021-01-23|\n",
            "+-----------+-------------+\n",
            "\n"
          ]
        }
      ]
    },
    {
      "cell_type": "code",
      "source": [
        "coldate = F.col('baja_sistema')\n",
        "df.select(\n",
        "    coldate,\n",
        "    F.year(coldate),\n",
        "    F.month(coldate),\n",
        "    F.dayofmonth(coldate),\n",
        "    F.dayofweek(coldate),\n",
        "    F.dayofyear(coldate),\n",
        "    F.hour(coldate),\n",
        "    F.minute(coldate),\n",
        "    F.second(coldate)\n",
        ").show()"
      ],
      "metadata": {
        "colab": {
          "base_uri": "https://localhost:8080/"
        },
        "id": "n7F0QQloo42I",
        "outputId": "9366d7b7-ade7-45d8-88b0-645ca6a1cfd0"
      },
      "execution_count": 54,
      "outputs": [
        {
          "output_type": "stream",
          "name": "stdout",
          "text": [
            "+-------------------+------------------+-------------------+------------------------+-----------------------+-----------------------+------------------+--------------------+--------------------+\n",
            "|       baja_sistema|year(baja_sistema)|month(baja_sistema)|dayofmonth(baja_sistema)|dayofweek(baja_sistema)|dayofyear(baja_sistema)|hour(baja_sistema)|minute(baja_sistema)|second(baja_sistema)|\n",
            "+-------------------+------------------+-------------------+------------------------+-----------------------+-----------------------+------------------+--------------------+--------------------+\n",
            "|2021-10-14 15:35:59|              2021|                 10|                      14|                      5|                    287|                15|                  35|                  59|\n",
            "|2021-11-25 10:35:55|              2021|                 11|                      25|                      5|                    329|                10|                  35|                  55|\n",
            "+-------------------+------------------+-------------------+------------------------+-----------------------+-----------------------+------------------+--------------------+--------------------+\n",
            "\n"
          ]
        }
      ]
    },
    {
      "cell_type": "markdown",
      "source": [
        "## Funciones para strings"
      ],
      "metadata": {
        "id": "gOFeQAUEp5mn"
      }
    },
    {
      "cell_type": "code",
      "source": [
        "data = spark.read.parquet('./data/')\n",
        "\n",
        "data.show()\n",
        "\n",
        "from pyspark.sql.functions import ltrim, rtrim, trim\n",
        "\n",
        "data.select(\n",
        "    ltrim('nombre').alias('ltrim'),\n",
        "    rtrim('nombre').alias('rtrim'),\n",
        "    trim('nombre').alias('trim')\n",
        ").show()"
      ],
      "metadata": {
        "id": "k84AR1Irp8JX"
      },
      "execution_count": null,
      "outputs": []
    },
    {
      "cell_type": "code",
      "source": [
        "from pyspark.sql.types import StructType, StructField, StringType, IntegerType"
      ],
      "metadata": {
        "id": "8YKapyzqrIWX"
      },
      "execution_count": 62,
      "outputs": []
    },
    {
      "cell_type": "code",
      "source": [
        "data = [(1, \"Abel   \",\"Bustamante\"), (2, \"    Ana\",\"Salazar\")]\n",
        "schema = StructType([\n",
        "    StructField(\"id\", IntegerType(), True),\n",
        "    StructField(\"nombre\", StringType(), True),\n",
        "    StructField(\"apellido\", StringType(), True)\n",
        "])\n",
        "df = spark.createDataFrame(data, schema)\n",
        "\n",
        "df.show()"
      ],
      "metadata": {
        "colab": {
          "base_uri": "https://localhost:8080/"
        },
        "id": "CRkhlwiyqOhP",
        "outputId": "2d09407d-00c8-4e10-c57b-4a2551fde833"
      },
      "execution_count": 69,
      "outputs": [
        {
          "output_type": "stream",
          "name": "stdout",
          "text": [
            "+---+-------+----------+\n",
            "| id| nombre|  apellido|\n",
            "+---+-------+----------+\n",
            "|  1|Abel   |Bustamante|\n",
            "|  2|    Ana|   Salazar|\n",
            "+---+-------+----------+\n",
            "\n"
          ]
        }
      ]
    },
    {
      "cell_type": "code",
      "source": [
        "from pyspark.sql.functions import ltrim, rtrim, trim"
      ],
      "metadata": {
        "id": "BQ8TW9I8sMTI"
      },
      "execution_count": null,
      "outputs": []
    },
    {
      "cell_type": "code",
      "source": [
        "df.select(\n",
        "    F.rtrim(F.col('nombre')).alias('nombre'),\n",
        "    F.trim(F.col('apellido')).alias('apellido')\n",
        ").show()"
      ],
      "metadata": {
        "colab": {
          "base_uri": "https://localhost:8080/"
        },
        "id": "GT1VIP3ErsM_",
        "outputId": "90cdf06f-3163-41ed-9af1-6ff0bbeafe74"
      },
      "execution_count": 71,
      "outputs": [
        {
          "output_type": "stream",
          "name": "stdout",
          "text": [
            "+-------+----------+\n",
            "| nombre|  apellido|\n",
            "+-------+----------+\n",
            "|   Abel|Bustamante|\n",
            "|    Ana|   Salazar|\n",
            "+-------+----------+\n",
            "\n"
          ]
        }
      ]
    },
    {
      "cell_type": "code",
      "source": [
        "## Rellenar con caracter en especifico\n",
        "from pyspark.sql.functions import col, lpad, rpad"
      ],
      "metadata": {
        "id": "TDU9YbZMsVe3"
      },
      "execution_count": 74,
      "outputs": []
    },
    {
      "cell_type": "code",
      "source": [
        "df.select(\n",
        "    lpad(col('nombre'),15,'*').alias('lpad'),\n",
        "    rpad(col('nombre'),15,'*').alias('rpad')\n",
        ").show(truncate=False)"
      ],
      "metadata": {
        "colab": {
          "base_uri": "https://localhost:8080/"
        },
        "id": "vaSci52ssbIS",
        "outputId": "e30da3c0-e927-4787-cfd9-2394dff281c3"
      },
      "execution_count": 79,
      "outputs": [
        {
          "output_type": "stream",
          "name": "stdout",
          "text": [
            "+---------------+---------------+\n",
            "|lpad           |rpad           |\n",
            "+---------------+---------------+\n",
            "|********Abel   |Abel   ********|\n",
            "|********    Ana|    Ana********|\n",
            "+---------------+---------------+\n",
            "\n"
          ]
        }
      ]
    },
    {
      "cell_type": "code",
      "source": [
        "sc = StructType([\n",
        "    StructField('palabra1',StringType(),True),\n",
        "    StructField('palabra2',StringType(),True),\n",
        "    StructField('palabra3',StringType(),True)\n",
        "])\n",
        "df1 = spark.createDataFrame(\n",
        "    [('Spark','es','maravilloso'),\n",
        "     ('sujeto','verbo','predicado')\n",
        "     ],schema=sc\n",
        ")\n",
        "\n",
        "df1.show()"
      ],
      "metadata": {
        "colab": {
          "base_uri": "https://localhost:8080/"
        },
        "id": "Y73ATt1UtG1g",
        "outputId": "cb16013a-07df-4b1a-f445-fb827eb782fd"
      },
      "execution_count": 85,
      "outputs": [
        {
          "output_type": "stream",
          "name": "stdout",
          "text": [
            "+--------+--------+-----------+\n",
            "|palabra1|palabra2|   palabra3|\n",
            "+--------+--------+-----------+\n",
            "|   Spark|      es|maravilloso|\n",
            "|  sujeto|   verbo|  predicado|\n",
            "+--------+--------+-----------+\n",
            "\n"
          ]
        }
      ]
    },
    {
      "cell_type": "code",
      "source": [
        "df1.select(\n",
        "    F.concat_ws('***',F.col('palabra1'),F.col('palabra2'),F.col('palabra3')).alias('concat'),\n",
        "    F.lower(F.col('palabra1')).alias('lower'),\n",
        "    F.upper(F.col('palabra2')).alias('upper'),\n",
        "    F.initcap(F.col('palabra3')).alias('initcap'),\n",
        "    F.reverse(F.col('palabra3')).alias('reverse')\n",
        ").show(truncate=False)"
      ],
      "metadata": {
        "colab": {
          "base_uri": "https://localhost:8080/"
        },
        "id": "P0zxWRCQt5Ww",
        "outputId": "b1ea3e60-f60e-4faf-8393-e626e945cf5e"
      },
      "execution_count": 90,
      "outputs": [
        {
          "output_type": "stream",
          "name": "stdout",
          "text": [
            "+--------------------------+------+-----+-----------+-----------+\n",
            "|concat                    |lower |upper|initcap    |reverse    |\n",
            "+--------------------------+------+-----+-----------+-----------+\n",
            "|Spark***es***maravilloso  |spark |ES   |Maravilloso|osollivaram|\n",
            "|sujeto***verbo***predicado|sujeto|VERBO|Predicado  |odaciderp  |\n",
            "+--------------------------+------+-----+-----------+-----------+\n",
            "\n"
          ]
        }
      ]
    },
    {
      "cell_type": "code",
      "source": [
        "df2 = spark.createDataFrame([('abro mi puerta con mi llave',)],['frase'])\n",
        "df2.show(truncate=False)"
      ],
      "metadata": {
        "colab": {
          "base_uri": "https://localhost:8080/"
        },
        "id": "xSm9B0OeubsP",
        "outputId": "291a2125-0708-491f-fde5-350441ada397"
      },
      "execution_count": 94,
      "outputs": [
        {
          "output_type": "stream",
          "name": "stdout",
          "text": [
            "+---------------------------+\n",
            "|frase                      |\n",
            "+---------------------------+\n",
            "|abro mi puerta con mi llave|\n",
            "+---------------------------+\n",
            "\n"
          ]
        }
      ]
    },
    {
      "cell_type": "code",
      "source": [
        "df2.select(\n",
        "    F.regexp_replace(col('frase'),'abro|con','remplazado').alias('nuevo valor')\n",
        ").show(truncate=False)"
      ],
      "metadata": {
        "colab": {
          "base_uri": "https://localhost:8080/"
        },
        "id": "bGEZx8xVuW6z",
        "outputId": "d1afa3f7-8ece-4105-f3e2-dd807987ba17"
      },
      "execution_count": 96,
      "outputs": [
        {
          "output_type": "stream",
          "name": "stdout",
          "text": [
            "+----------------------------------------+\n",
            "|nuevo valor                             |\n",
            "+----------------------------------------+\n",
            "|remplazado mi puerta remplazado mi llave|\n",
            "+----------------------------------------+\n",
            "\n"
          ]
        }
      ]
    },
    {
      "cell_type": "markdown",
      "source": [
        "## Trabajo con colecciones"
      ],
      "metadata": {
        "id": "RUkcXqXSveiX"
      }
    },
    {
      "cell_type": "code",
      "source": [
        "df = spark.read.parquet('/content/parquet/part-00000-96f39196-ef97-4a14-926e-b24a86c2e32d-c000.snappy.parquet')"
      ],
      "metadata": {
        "id": "OJTMq_h1vhKv"
      },
      "execution_count": 97,
      "outputs": []
    },
    {
      "cell_type": "code",
      "source": [
        "df.show(truncate=False)"
      ],
      "metadata": {
        "colab": {
          "base_uri": "https://localhost:8080/"
        },
        "id": "ir9YCYd-wIW4",
        "outputId": "634705d9-039e-4624-c88a-d18736a61297"
      },
      "execution_count": 100,
      "outputs": [
        {
          "output_type": "stream",
          "name": "stdout",
          "text": [
            "+-----+--------------------------------------------+\n",
            "|dia  |tareas                                      |\n",
            "+-----+--------------------------------------------+\n",
            "|lunes|[hacer la tarea, buscar agua, lavar el auto]|\n",
            "+-----+--------------------------------------------+\n",
            "\n"
          ]
        }
      ]
    },
    {
      "cell_type": "code",
      "source": [
        "df.printSchema()"
      ],
      "metadata": {
        "colab": {
          "base_uri": "https://localhost:8080/"
        },
        "id": "cAx4DGfzwLr_",
        "outputId": "526f0f3f-9c41-4e29-fb2f-6a5d97016cf4"
      },
      "execution_count": 99,
      "outputs": [
        {
          "output_type": "stream",
          "name": "stdout",
          "text": [
            "root\n",
            " |-- dia: string (nullable = true)\n",
            " |-- tareas: array (nullable = true)\n",
            " |    |-- element: string (containsNull = true)\n",
            "\n"
          ]
        }
      ]
    },
    {
      "cell_type": "code",
      "source": [
        "from pyspark.sql.functions import col,size,sort_array,array_contains,explode"
      ],
      "metadata": {
        "id": "LqU_ii6NwVon"
      },
      "execution_count": 106,
      "outputs": []
    },
    {
      "cell_type": "code",
      "source": [
        "df.select(\n",
        "    size(col('tareas')).alias('tamaño'),\n",
        "    sort_array(col('tareas')).alias('arreglo_ordenado'),\n",
        "    array_contains(col('tareas'),'buscar agua').alias('contains')\n",
        ").show(truncate=False)"
      ],
      "metadata": {
        "colab": {
          "base_uri": "https://localhost:8080/"
        },
        "id": "E0eWgLGewbG4",
        "outputId": "bf7f678c-5cb6-45b6-b00c-409ac95872da"
      },
      "execution_count": 104,
      "outputs": [
        {
          "output_type": "stream",
          "name": "stdout",
          "text": [
            "+------+--------------------------------------------+--------+\n",
            "|tamaño|arreglo_ordenado                            |contains|\n",
            "+------+--------------------------------------------+--------+\n",
            "|3     |[buscar agua, hacer la tarea, lavar el auto]|true    |\n",
            "+------+--------------------------------------------+--------+\n",
            "\n"
          ]
        }
      ]
    },
    {
      "cell_type": "code",
      "source": [
        "df.printSchema()"
      ],
      "metadata": {
        "colab": {
          "base_uri": "https://localhost:8080/"
        },
        "id": "9GLXPzlUx4iX",
        "outputId": "2563f43c-00a8-4425-b8c6-5fa702c7f54b"
      },
      "execution_count": 115,
      "outputs": [
        {
          "output_type": "stream",
          "name": "stdout",
          "text": [
            "root\n",
            " |-- dia: string (nullable = true)\n",
            " |-- tareas: array (nullable = true)\n",
            " |    |-- element: string (containsNull = true)\n",
            "\n"
          ]
        }
      ]
    },
    {
      "cell_type": "code",
      "source": [
        "df.show(truncate=False)"
      ],
      "metadata": {
        "colab": {
          "base_uri": "https://localhost:8080/"
        },
        "id": "2-Z5151Oxjow",
        "outputId": "0b5ee061-7f24-4791-d2ab-3dfaf19946a3"
      },
      "execution_count": 116,
      "outputs": [
        {
          "output_type": "stream",
          "name": "stdout",
          "text": [
            "+-----+--------------------------------------------+\n",
            "|dia  |tareas                                      |\n",
            "+-----+--------------------------------------------+\n",
            "|lunes|[hacer la tarea, buscar agua, lavar el auto]|\n",
            "+-----+--------------------------------------------+\n",
            "\n"
          ]
        }
      ]
    },
    {
      "cell_type": "code",
      "source": [
        "schema = StructType([\n",
        "    StructField('dia',StringType(),True),\n",
        "    StructField('tareas',F.ArrayType(StringType(), True),True)\n",
        "])\n",
        "df2 = spark.createDataFrame([('lunes',['tarea1','tarea2']),('martes',['tarea3','tarea4'])],schema=schema)"
      ],
      "metadata": {
        "id": "jXwi3xlyyHev"
      },
      "execution_count": 118,
      "outputs": []
    },
    {
      "cell_type": "code",
      "source": [
        "df2.show()"
      ],
      "metadata": {
        "colab": {
          "base_uri": "https://localhost:8080/"
        },
        "id": "GW-zbPYnxwbA",
        "outputId": "1ac21522-4ebd-4487-df1d-95d8d719cdde"
      },
      "execution_count": 119,
      "outputs": [
        {
          "output_type": "stream",
          "name": "stdout",
          "text": [
            "+------+----------------+\n",
            "|   dia|          tareas|\n",
            "+------+----------------+\n",
            "| lunes|[tarea1, tarea2]|\n",
            "|martes|[tarea3, tarea4]|\n",
            "+------+----------------+\n",
            "\n"
          ]
        }
      ]
    },
    {
      "cell_type": "code",
      "source": [
        "df2.select(\n",
        "    col('dia'),\n",
        "    explode(col('tareas')).alias('tarea')\n",
        ").show(truncate=False)"
      ],
      "metadata": {
        "colab": {
          "base_uri": "https://localhost:8080/"
        },
        "id": "lJDDirxFw94Y",
        "outputId": "0204f5c4-4565-45ba-f5bf-760ec9d5daa8"
      },
      "execution_count": 120,
      "outputs": [
        {
          "output_type": "stream",
          "name": "stdout",
          "text": [
            "+------+------+\n",
            "|dia   |tarea |\n",
            "+------+------+\n",
            "|lunes |tarea1|\n",
            "|lunes |tarea2|\n",
            "|martes|tarea3|\n",
            "|martes|tarea4|\n",
            "+------+------+\n",
            "\n"
          ]
        }
      ]
    },
    {
      "cell_type": "code",
      "source": [
        "json_df_str = spark.read.parquet('/content/JSON')"
      ],
      "metadata": {
        "id": "R77DgjdMyejw"
      },
      "execution_count": 129,
      "outputs": []
    },
    {
      "cell_type": "code",
      "source": [
        "json_df_str.show(truncate=False)"
      ],
      "metadata": {
        "colab": {
          "base_uri": "https://localhost:8080/"
        },
        "id": "8r3ugBSnyil_",
        "outputId": "f821b133-02f4-4b97-cada-2421cdc926e4"
      },
      "execution_count": 130,
      "outputs": [
        {
          "output_type": "stream",
          "name": "stdout",
          "text": [
            "+---------------------------------------------------------------------------+\n",
            "|tareas_str                                                                 |\n",
            "+---------------------------------------------------------------------------+\n",
            "|{\"dia\": \"lunes\",\"tareas\": [\"hacer la tarea\",\"buscar agua\",\"lavar el auto\"]}|\n",
            "+---------------------------------------------------------------------------+\n",
            "\n"
          ]
        }
      ]
    },
    {
      "cell_type": "code",
      "source": [
        "json_df_str.printSchema()"
      ],
      "metadata": {
        "colab": {
          "base_uri": "https://localhost:8080/"
        },
        "id": "KSvNk9SGylcQ",
        "outputId": "7e77313d-ba48-42e7-86be-f5caef6e26f5"
      },
      "execution_count": 131,
      "outputs": [
        {
          "output_type": "stream",
          "name": "stdout",
          "text": [
            "root\n",
            " |-- tareas_str: string (nullable = true)\n",
            "\n"
          ]
        }
      ]
    },
    {
      "cell_type": "code",
      "source": [
        "from pyspark.sql.types import StructType, StructField, StringType, ArrayType\n",
        "\n",
        "schema_json = StructType(\n",
        "    [\n",
        "     StructField('dia', StringType(), True),\n",
        "     StructField('tareas', ArrayType(StringType()), True)\n",
        "    ]\n",
        ")"
      ],
      "metadata": {
        "id": "d30Tb8A9zIU_"
      },
      "execution_count": 132,
      "outputs": []
    },
    {
      "cell_type": "code",
      "source": [
        "from pyspark.sql.functions import from_json, to_json\n",
        "\n",
        "json_df = json_df_str.select(\n",
        "    from_json(col('tareas_str'), schema_json).alias('por_hacer')\n",
        ")\n"
      ],
      "metadata": {
        "id": "62Clal2fzJf3"
      },
      "execution_count": 133,
      "outputs": []
    },
    {
      "cell_type": "code",
      "source": [
        "json_df.printSchema()"
      ],
      "metadata": {
        "colab": {
          "base_uri": "https://localhost:8080/"
        },
        "id": "_43xdcW50nOQ",
        "outputId": "1637c4f4-24af-4db5-dddf-79e24825b8a8"
      },
      "execution_count": 138,
      "outputs": [
        {
          "output_type": "stream",
          "name": "stdout",
          "text": [
            "root\n",
            " |-- por_hacer: struct (nullable = true)\n",
            " |    |-- dia: string (nullable = true)\n",
            " |    |-- tareas: array (nullable = true)\n",
            " |    |    |-- element: string (containsNull = true)\n",
            "\n"
          ]
        }
      ]
    },
    {
      "cell_type": "code",
      "source": [
        "json_df.show(truncate=False)"
      ],
      "metadata": {
        "colab": {
          "base_uri": "https://localhost:8080/"
        },
        "id": "13rbaGCxz2qo",
        "outputId": "6fb50a11-1d39-45c9-d337-dc19d6954335"
      },
      "execution_count": 137,
      "outputs": [
        {
          "output_type": "stream",
          "name": "stdout",
          "text": [
            "+-----------------------------------------------------+\n",
            "|por_hacer                                            |\n",
            "+-----------------------------------------------------+\n",
            "|{lunes, [hacer la tarea, buscar agua, lavar el auto]}|\n",
            "+-----------------------------------------------------+\n",
            "\n"
          ]
        }
      ]
    },
    {
      "cell_type": "code",
      "source": [
        "json_df.select(\n",
        "    col('por_hacer').getItem('dia'),\n",
        "    col('por_hacer').getItem('tareas'),\n",
        "    col('por_hacer').getItem('tareas').getItem(0).alias('primer_tarea')\n",
        ").show(truncate=False)"
      ],
      "metadata": {
        "colab": {
          "base_uri": "https://localhost:8080/"
        },
        "id": "g4kPoWXczNHI",
        "outputId": "a75e4466-88d8-49c6-e9ea-911a66f20be8"
      },
      "execution_count": 134,
      "outputs": [
        {
          "output_type": "stream",
          "name": "stdout",
          "text": [
            "+-------------+--------------------------------------------+--------------+\n",
            "|por_hacer.dia|por_hacer.tareas                            |primer_tarea  |\n",
            "+-------------+--------------------------------------------+--------------+\n",
            "|lunes        |[hacer la tarea, buscar agua, lavar el auto]|hacer la tarea|\n",
            "+-------------+--------------------------------------------+--------------+\n",
            "\n"
          ]
        }
      ]
    },
    {
      "cell_type": "code",
      "source": [
        "json_df.select(\n",
        "    to_json(col('por_hacer'))\n",
        ").show(truncate=False)\n"
      ],
      "metadata": {
        "colab": {
          "base_uri": "https://localhost:8080/"
        },
        "id": "X6Xvjb7jzOpI",
        "outputId": "77b499ba-f2e9-49ce-c8b0-47dbeb88a6f9"
      },
      "execution_count": 139,
      "outputs": [
        {
          "output_type": "stream",
          "name": "stdout",
          "text": [
            "+-------------------------------------------------------------------------+\n",
            "|to_json(por_hacer)                                                       |\n",
            "+-------------------------------------------------------------------------+\n",
            "|{\"dia\":\"lunes\",\"tareas\":[\"hacer la tarea\",\"buscar agua\",\"lavar el auto\"]}|\n",
            "+-------------------------------------------------------------------------+\n",
            "\n"
          ]
        }
      ]
    },
    {
      "cell_type": "markdown",
      "source": [
        "##  Mas Funciones"
      ],
      "metadata": {
        "id": "NLZswDd93KDY"
      }
    },
    {
      "cell_type": "code",
      "source": [
        "df = spark.read.parquet('/content/part-00000-a9b42845-6edf-4329-996e-2528aa78bb4a-c000.snappy.parquet')"
      ],
      "metadata": {
        "id": "19gLv_Ov3MeI"
      },
      "execution_count": 140,
      "outputs": []
    },
    {
      "cell_type": "code",
      "source": [
        "df.show()"
      ],
      "metadata": {
        "colab": {
          "base_uri": "https://localhost:8080/"
        },
        "id": "-9DRZ-3B3RIY",
        "outputId": "8955ed16-c81e-4bb4-8ef2-a660daaace96"
      },
      "execution_count": 141,
      "outputs": [
        {
          "output_type": "stream",
          "name": "stdout",
          "text": [
            "+------+----+\n",
            "|nombre|pago|\n",
            "+------+----+\n",
            "|  Jose|   1|\n",
            "| Julia|   2|\n",
            "| Katia|   1|\n",
            "|  NULL|   3|\n",
            "|  Raul|   3|\n",
            "+------+----+\n",
            "\n"
          ]
        }
      ]
    },
    {
      "cell_type": "code",
      "source": [],
      "metadata": {
        "id": "hym_pD3M3fo4"
      },
      "execution_count": null,
      "outputs": []
    },
    {
      "cell_type": "code",
      "source": [
        "df.select(\n",
        "    col('nombre'),\n",
        "    F.when(col('pago')==1,'pagado').when(col('pago')==2,'no pagado').otherwise('no se').alias('pago')\n",
        ").show()"
      ],
      "metadata": {
        "colab": {
          "base_uri": "https://localhost:8080/"
        },
        "id": "YmDpWBa73SiQ",
        "outputId": "991f19e7-04a9-43cd-b6e6-125faed0588b"
      },
      "execution_count": 145,
      "outputs": [
        {
          "output_type": "stream",
          "name": "stdout",
          "text": [
            "+------+---------+\n",
            "|nombre|     pago|\n",
            "+------+---------+\n",
            "|  Jose|   pagado|\n",
            "| Julia|no pagado|\n",
            "| Katia|   pagado|\n",
            "|  NULL|    no se|\n",
            "|  Raul|    no se|\n",
            "+------+---------+\n",
            "\n"
          ]
        }
      ]
    },
    {
      "cell_type": "code",
      "source": [
        "df.select(\n",
        "    col('nombre'),\n",
        "    F.lpad(F.coalesce(col('nombre'),F.lit('no name')),12,\"*\")\n",
        ").show()"
      ],
      "metadata": {
        "colab": {
          "base_uri": "https://localhost:8080/"
        },
        "id": "HXPdLjYK3vJY",
        "outputId": "d2887848-46eb-4ace-e359-5925d95fb179"
      },
      "execution_count": 155,
      "outputs": [
        {
          "output_type": "stream",
          "name": "stdout",
          "text": [
            "+------+--------------------------------------+\n",
            "|nombre|lpad(coalesce(nombre, no name), 12, *)|\n",
            "+------+--------------------------------------+\n",
            "|  Jose|                          ********Jose|\n",
            "| Julia|                          *******Julia|\n",
            "| Katia|                          *******Katia|\n",
            "|  NULL|                          *****no name|\n",
            "|  Raul|                          ********Raul|\n",
            "+------+--------------------------------------+\n",
            "\n"
          ]
        }
      ]
    }
  ]
}