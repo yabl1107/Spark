{
  "nbformat": 4,
  "nbformat_minor": 0,
  "metadata": {
    "colab": {
      "provenance": []
    },
    "kernelspec": {
      "name": "python3",
      "display_name": "Python 3"
    },
    "language_info": {
      "name": "python"
    }
  },
  "cells": [
    {
      "cell_type": "markdown",
      "source": [
        "Los RDDs casi no se usan para el procesamiento hoy en día, pero son la base de las nuevas interfaces como Spark SQL y Dataframes. Estas herramientas internamente usan RDD."
      ],
      "metadata": {
        "id": "PEb7ipso71wD"
      }
    },
    {
      "cell_type": "markdown",
      "source": [
        "Cuando escribimos código, este no se ejecuta inmediatamente, se produce un lazy evaluation que se traduce a un plan de ejecución. Este plan solo será ejecutado cuando se realice una ACCIÓN, no TRANSFORMACIONES."
      ],
      "metadata": {
        "id": "YvHkT_OX_-jT"
      }
    },
    {
      "cell_type": "markdown",
      "source": [
        "# Introduccion"
      ],
      "metadata": {
        "id": "dK_pBI7X5HyQ"
      }
    },
    {
      "cell_type": "markdown",
      "source": [
        "## Instalación manual"
      ],
      "metadata": {
        "id": "9nUCvlL77Vvj"
      }
    },
    {
      "cell_type": "code",
      "execution_count": null,
      "metadata": {
        "id": "lFu3acIM2P8d"
      },
      "outputs": [],
      "source": [
        "# Instalar SDK Java 8\n",
        "!apt-get install openjdk-8-jdk-headless -qq > /dev/null"
      ]
    },
    {
      "cell_type": "code",
      "source": [
        "# Descargar Spark 3.4.3\n",
        "\n",
        "!wget -q https://archive.apache.org/dist/spark/spark-3.4.3/spark-3.4.3-bin-hadoop3.tgz"
      ],
      "metadata": {
        "id": "HZzl8rau2k3s"
      },
      "execution_count": null,
      "outputs": []
    },
    {
      "cell_type": "code",
      "source": [
        "# Descomprimir el archivo descargado de Spark\n",
        "\n",
        "!tar xf spark-3.4.3-bin-hadoop3.tgz\n"
      ],
      "metadata": {
        "id": "ZjipC1L324-s"
      },
      "execution_count": null,
      "outputs": []
    },
    {
      "cell_type": "code",
      "source": [
        "# Establecer las variables de entorno\n",
        "\n",
        "import os\n",
        "\n",
        "os.environ[\"JAVA_HOME\"] = \"/usr/lib/jvm/java-8-openjdk-amd64\"\n",
        "os.environ[\"SPARK_HOME\"] = \"/content/spark-3.4.3-bin-hadoop3\""
      ],
      "metadata": {
        "id": "ZHQU6n-0248U"
      },
      "execution_count": null,
      "outputs": []
    },
    {
      "cell_type": "code",
      "source": [
        "# Instalar la librería findspark\n",
        "!pip install -q findspark"
      ],
      "metadata": {
        "id": "Plk2KE1B242M"
      },
      "execution_count": 2,
      "outputs": []
    },
    {
      "cell_type": "code",
      "source": [
        "### verificar la instalación ###\n",
        "\n",
        "import findspark\n",
        "\n",
        "findspark.init()"
      ],
      "metadata": {
        "id": "NpM-A9P57eWT"
      },
      "execution_count": null,
      "outputs": []
    },
    {
      "cell_type": "markdown",
      "source": [
        "## Instalación por default con pip"
      ],
      "metadata": {
        "id": "PxbjR8327Zvj"
      }
    },
    {
      "cell_type": "code",
      "source": [
        "# Instalar pyspark\n",
        "!pip install -q pyspark"
      ],
      "metadata": {
        "id": "vTtGLOwA24mc"
      },
      "execution_count": 3,
      "outputs": []
    },
    {
      "cell_type": "code",
      "source": [
        "\n",
        "from pyspark.sql import SparkSession\n",
        "\n",
        "spark = SparkSession.builder.master(\"local[*]\").getOrCreate()"
      ],
      "metadata": {
        "id": "8Lb9dqRx3E7J"
      },
      "execution_count": 4,
      "outputs": []
    },
    {
      "cell_type": "code",
      "source": [
        "# Probando la sesión de Spark\n",
        "df = spark.createDataFrame([{\"Hola\": \"Mundo\"} for x in range(10)])\n",
        "df.show(10, False)"
      ],
      "metadata": {
        "colab": {
          "base_uri": "https://localhost:8080/"
        },
        "id": "yNDR1ldO3E45",
        "outputId": "f7b7f3f8-850f-4a34-82e8-7788a5128c51"
      },
      "execution_count": null,
      "outputs": [
        {
          "output_type": "stream",
          "name": "stdout",
          "text": [
            "+-----+\n",
            "|Hola |\n",
            "+-----+\n",
            "|Mundo|\n",
            "|Mundo|\n",
            "|Mundo|\n",
            "|Mundo|\n",
            "|Mundo|\n",
            "|Mundo|\n",
            "|Mundo|\n",
            "|Mundo|\n",
            "|Mundo|\n",
            "|Mundo|\n",
            "+-----+\n",
            "\n"
          ]
        }
      ]
    },
    {
      "cell_type": "code",
      "source": [
        "spark"
      ],
      "metadata": {
        "id": "9b82sFNn3Ezp",
        "colab": {
          "base_uri": "https://localhost:8080/",
          "height": 219
        },
        "outputId": "2d25241c-ce94-41a6-c36f-2b347e46d00c"
      },
      "execution_count": 5,
      "outputs": [
        {
          "output_type": "execute_result",
          "data": {
            "text/plain": [
              "<pyspark.sql.session.SparkSession at 0x7c8261cb9fd0>"
            ],
            "text/html": [
              "\n",
              "            <div>\n",
              "                <p><b>SparkSession - in-memory</b></p>\n",
              "                \n",
              "        <div>\n",
              "            <p><b>SparkContext</b></p>\n",
              "\n",
              "            <p><a href=\"http://2c14f79c474e:4040\">Spark UI</a></p>\n",
              "\n",
              "            <dl>\n",
              "              <dt>Version</dt>\n",
              "                <dd><code>v3.5.1</code></dd>\n",
              "              <dt>Master</dt>\n",
              "                <dd><code>local[*]</code></dd>\n",
              "              <dt>AppName</dt>\n",
              "                <dd><code>pyspark-shell</code></dd>\n",
              "            </dl>\n",
              "        </div>\n",
              "        \n",
              "            </div>\n",
              "        "
            ]
          },
          "metadata": {},
          "execution_count": 5
        }
      ]
    },
    {
      "cell_type": "markdown",
      "source": [
        "# RDD"
      ],
      "metadata": {
        "id": "OXKs_F5K5MWJ"
      }
    },
    {
      "cell_type": "markdown",
      "source": [
        "## Creacion RDD"
      ],
      "metadata": {
        "id": "n-PWHjouzFAN"
      }
    },
    {
      "cell_type": "code",
      "source": [
        "spark"
      ],
      "metadata": {
        "colab": {
          "base_uri": "https://localhost:8080/",
          "height": 219
        },
        "id": "Bk_qYCuf5ewL",
        "outputId": "adfa74b9-b39c-41c5-a5e1-26f604616460"
      },
      "execution_count": null,
      "outputs": [
        {
          "output_type": "execute_result",
          "data": {
            "text/plain": [
              "<pyspark.sql.session.SparkSession at 0x7ff20afc3150>"
            ],
            "text/html": [
              "\n",
              "            <div>\n",
              "                <p><b>SparkSession - in-memory</b></p>\n",
              "                \n",
              "        <div>\n",
              "            <p><b>SparkContext</b></p>\n",
              "\n",
              "            <p><a href=\"http://05142751d0d3:4040\">Spark UI</a></p>\n",
              "\n",
              "            <dl>\n",
              "              <dt>Version</dt>\n",
              "                <dd><code>v3.4.3</code></dd>\n",
              "              <dt>Master</dt>\n",
              "                <dd><code>local[*]</code></dd>\n",
              "              <dt>AppName</dt>\n",
              "                <dd><code>pyspark-shell</code></dd>\n",
              "            </dl>\n",
              "        </div>\n",
              "        \n",
              "            </div>\n",
              "        "
            ]
          },
          "metadata": {},
          "execution_count": 17
        }
      ]
    },
    {
      "cell_type": "code",
      "source": [
        "sc = spark.sparkContext"
      ],
      "metadata": {
        "id": "d6roAhRR5j4z"
      },
      "execution_count": null,
      "outputs": []
    },
    {
      "cell_type": "code",
      "source": [
        "# Crear un RDD vacío\n",
        "rdd_vacio = sc.emptyRDD"
      ],
      "metadata": {
        "id": "B37zQLCX7NJP"
      },
      "execution_count": null,
      "outputs": []
    },
    {
      "cell_type": "code",
      "source": [
        "## Crear un RDD con parallelize\n",
        "rdd_vacio3 = sc.parallelize([],3)\n",
        "rdd_vacio3.getNumPartitions()"
      ],
      "metadata": {
        "colab": {
          "base_uri": "https://localhost:8080/"
        },
        "id": "dsmLbV6L7S1h",
        "outputId": "68ef325e-5d12-410b-e1dc-1689d4a3fcba"
      },
      "execution_count": null,
      "outputs": [
        {
          "output_type": "execute_result",
          "data": {
            "text/plain": [
              "3"
            ]
          },
          "metadata": {},
          "execution_count": 20
        }
      ]
    },
    {
      "cell_type": "code",
      "source": [
        "rdd = sc.parallelize([1,2,3,4,5])\n",
        "rdd"
      ],
      "metadata": {
        "colab": {
          "base_uri": "https://localhost:8080/"
        },
        "id": "x2P44Cns7evl",
        "outputId": "98d48930-cf2d-4b45-86e8-5a30a484fae6"
      },
      "execution_count": null,
      "outputs": [
        {
          "output_type": "execute_result",
          "data": {
            "text/plain": [
              "ParallelCollectionRDD[8] at readRDDFromFile at PythonRDD.scala:287"
            ]
          },
          "metadata": {},
          "execution_count": 21
        }
      ]
    },
    {
      "cell_type": "code",
      "source": [
        "rdd.collect()"
      ],
      "metadata": {
        "colab": {
          "base_uri": "https://localhost:8080/"
        },
        "id": "zEugUoZ-7ixv",
        "outputId": "070d7c28-f841-442a-921f-9ee214ad97f5"
      },
      "execution_count": null,
      "outputs": [
        {
          "output_type": "execute_result",
          "data": {
            "text/plain": [
              "[1, 2, 3, 4, 5]"
            ]
          },
          "metadata": {},
          "execution_count": 23
        }
      ]
    },
    {
      "cell_type": "code",
      "source": [
        "# Crear un RDD desde un archivo de texto\n",
        "\n",
        "rdd_texto = sc.textFile('/rdd_source.txt')\n",
        "\n",
        "rdd_texto.collect()"
      ],
      "metadata": {
        "colab": {
          "base_uri": "https://localhost:8080/"
        },
        "id": "NVg3Zy8L7qsi",
        "outputId": "c4f02c8c-2613-4df3-87b7-514de51b8d76"
      },
      "execution_count": null,
      "outputs": [
        {
          "output_type": "execute_result",
          "data": {
            "text/plain": [
              "['Así podemos crear', 'un RDD desde un', 'archivo de texto!!!']"
            ]
          },
          "metadata": {},
          "execution_count": 30
        }
      ]
    },
    {
      "cell_type": "code",
      "source": [
        "rdd_texto_completo = sc.wholeTextFiles('/rdd_source.txt')\n",
        "\n",
        "rdd_texto_completo.collect()"
      ],
      "metadata": {
        "colab": {
          "base_uri": "https://localhost:8080/"
        },
        "id": "HcQqvWn1AsHI",
        "outputId": "393dbe9a-8874-4e91-b11c-3c0d76b1ce3c"
      },
      "execution_count": null,
      "outputs": [
        {
          "output_type": "execute_result",
          "data": {
            "text/plain": [
              "[('file:/rdd_source.txt',\n",
              "  'Así podemos crear\\nun RDD desde un\\narchivo de texto!!!')]"
            ]
          },
          "metadata": {},
          "execution_count": 31
        }
      ]
    },
    {
      "cell_type": "code",
      "source": [
        "rdd_suma = rdd.map(lambda x: x +1)\n",
        "\n",
        "rdd_suma.collect()"
      ],
      "metadata": {
        "colab": {
          "base_uri": "https://localhost:8080/"
        },
        "id": "Tz-IKe9-AsEo",
        "outputId": "e1b73305-740b-47c8-806c-b568a8d9c3d0"
      },
      "execution_count": null,
      "outputs": [
        {
          "output_type": "execute_result",
          "data": {
            "text/plain": [
              "[2, 3, 4, 5, 6]"
            ]
          },
          "metadata": {},
          "execution_count": 32
        }
      ]
    },
    {
      "cell_type": "code",
      "source": [
        "df = spark.createDataFrame([(1, 'jose'), (2, 'juan')], ['id', 'nombre'])\n",
        "\n",
        "df.show()"
      ],
      "metadata": {
        "colab": {
          "base_uri": "https://localhost:8080/"
        },
        "id": "gVSyJgemAsCI",
        "outputId": "fbe39c79-3a29-465f-c5b9-716a39f1a643"
      },
      "execution_count": null,
      "outputs": [
        {
          "output_type": "stream",
          "name": "stdout",
          "text": [
            "+---+------+\n",
            "| id|nombre|\n",
            "+---+------+\n",
            "|  1|  jose|\n",
            "|  2|  juan|\n",
            "+---+------+\n",
            "\n"
          ]
        }
      ]
    },
    {
      "cell_type": "code",
      "source": [
        "rdd_df = df.rdd\n",
        "\n",
        "rdd_df.collect()"
      ],
      "metadata": {
        "colab": {
          "base_uri": "https://localhost:8080/"
        },
        "id": "IyRV-AJ5Ar_w",
        "outputId": "e76ca72a-9f24-48fc-b281-3eb2838acb8c"
      },
      "execution_count": null,
      "outputs": [
        {
          "output_type": "execute_result",
          "data": {
            "text/plain": [
              "[Row(id=1, nombre='jose'), Row(id=2, nombre='juan')]"
            ]
          },
          "metadata": {},
          "execution_count": 34
        }
      ]
    },
    {
      "cell_type": "markdown",
      "source": [
        "##Ejercicios\n"
      ],
      "metadata": {
        "id": "okoSd_IVBXBa"
      }
    },
    {
      "cell_type": "code",
      "source": [
        "mysession = SparkSession.builder.master(\"local[*]\").appName(\"Cap2\").getOrCreate()"
      ],
      "metadata": {
        "id": "xzfAKONdBYQ6"
      },
      "execution_count": null,
      "outputs": []
    },
    {
      "cell_type": "code",
      "source": [
        "mysession"
      ],
      "metadata": {
        "colab": {
          "base_uri": "https://localhost:8080/",
          "height": 219
        },
        "id": "ix_6kQfzBxal",
        "outputId": "6e6b1372-20b6-4c08-b0d4-ba6b94eb69b3"
      },
      "execution_count": null,
      "outputs": [
        {
          "output_type": "execute_result",
          "data": {
            "text/plain": [
              "<pyspark.sql.session.SparkSession at 0x7ff20afc3150>"
            ],
            "text/html": [
              "\n",
              "            <div>\n",
              "                <p><b>SparkSession - in-memory</b></p>\n",
              "                \n",
              "        <div>\n",
              "            <p><b>SparkContext</b></p>\n",
              "\n",
              "            <p><a href=\"http://05142751d0d3:4040\">Spark UI</a></p>\n",
              "\n",
              "            <dl>\n",
              "              <dt>Version</dt>\n",
              "                <dd><code>v3.4.3</code></dd>\n",
              "              <dt>Master</dt>\n",
              "                <dd><code>local[*]</code></dd>\n",
              "              <dt>AppName</dt>\n",
              "                <dd><code>pyspark-shell</code></dd>\n",
              "            </dl>\n",
              "        </div>\n",
              "        \n",
              "            </div>\n",
              "        "
            ]
          },
          "metadata": {},
          "execution_count": 39
        }
      ]
    },
    {
      "cell_type": "code",
      "source": [
        "rdd_vacio = sc.emptyRDD\n",
        "rdd_5part = sc.parallelize([],5)\n",
        "rdd_5part.getNumPartitions()"
      ],
      "metadata": {
        "colab": {
          "base_uri": "https://localhost:8080/"
        },
        "id": "JlVudxH5CNtQ",
        "outputId": "4aa3ba75-5c95-47d0-c29b-bcbf6b69a2a6"
      },
      "execution_count": null,
      "outputs": [
        {
          "output_type": "execute_result",
          "data": {
            "text/plain": [
              "5"
            ]
          },
          "metadata": {},
          "execution_count": 43
        }
      ]
    },
    {
      "cell_type": "code",
      "source": [
        "def getNumerosPrimos(a:int):\n",
        "  result = []\n",
        "  for i in range(1,a+1):\n",
        "    flag = True\n",
        "    for j in range(1,i):\n",
        "      if(i%j==0 and j!=1):\n",
        "        flag = False\n",
        "    if(flag):\n",
        "      result.append(i)\n",
        "  return result"
      ],
      "metadata": {
        "id": "XsHD_im0CpOc"
      },
      "execution_count": null,
      "outputs": []
    },
    {
      "cell_type": "code",
      "source": [
        "rdd_primos = sc.parallelize(getNumerosPrimos(20))\n",
        "rdd_primos"
      ],
      "metadata": {
        "colab": {
          "base_uri": "https://localhost:8080/"
        },
        "id": "sahpimkyEHEr",
        "outputId": "9142ea60-57e5-408e-ab01-b20c6b5e4502"
      },
      "execution_count": null,
      "outputs": [
        {
          "output_type": "execute_result",
          "data": {
            "text/plain": [
              "ParallelCollectionRDD[39] at readRDDFromFile at PythonRDD.scala:287"
            ]
          },
          "metadata": {},
          "execution_count": 50
        }
      ]
    },
    {
      "cell_type": "code",
      "source": [
        "filter_rdd = rdd_primos.filter( lambda a : a>10)\n",
        "filter_rdd.collect()"
      ],
      "metadata": {
        "colab": {
          "base_uri": "https://localhost:8080/"
        },
        "id": "s_k5ZcwCEgX-",
        "outputId": "4a8b842c-8077-4cc7-bfab-bb37f996d8cb"
      },
      "execution_count": null,
      "outputs": [
        {
          "output_type": "execute_result",
          "data": {
            "text/plain": [
              "[11, 13, 17, 19]"
            ]
          },
          "metadata": {},
          "execution_count": 54
        }
      ]
    },
    {
      "cell_type": "markdown",
      "source": [
        "## Transformaciones en RDD"
      ],
      "metadata": {
        "id": "GUqpVqaXzN-N"
      }
    },
    {
      "cell_type": "code",
      "source": [
        "sc = spark.sparkContext"
      ],
      "metadata": {
        "id": "Y_rQyxS-zNTl"
      },
      "execution_count": 6,
      "outputs": []
    },
    {
      "cell_type": "markdown",
      "source": [
        "Transformación Map"
      ],
      "metadata": {
        "id": "F6S3bIUxzhbl"
      }
    },
    {
      "cell_type": "code",
      "source": [
        "rdd = sc.parallelize([1,2,3,4,5])"
      ],
      "metadata": {
        "id": "GJX82H_UzjNF"
      },
      "execution_count": 7,
      "outputs": []
    },
    {
      "cell_type": "code",
      "source": [
        "rdd_resta = rdd.map( lambda a: a-1)\n",
        "rdd_resta.collect()"
      ],
      "metadata": {
        "colab": {
          "base_uri": "https://localhost:8080/"
        },
        "id": "z5Y45DsUzwMS",
        "outputId": "808b3f18-bc8b-4b0f-ad0f-de07bc3ecffe"
      },
      "execution_count": 11,
      "outputs": [
        {
          "output_type": "execute_result",
          "data": {
            "text/plain": [
              "[0, 1, 2, 3, 4]"
            ]
          },
          "metadata": {},
          "execution_count": 11
        }
      ]
    },
    {
      "cell_type": "code",
      "source": [
        "rdd_par = rdd.map(lambda a: a%2==0)\n",
        "rdd_par.collect()"
      ],
      "metadata": {
        "colab": {
          "base_uri": "https://localhost:8080/"
        },
        "id": "z9e7WCd0z85F",
        "outputId": "ebcf5ef9-4558-4bb4-b935-1e4d966f5d63"
      },
      "execution_count": 12,
      "outputs": [
        {
          "output_type": "execute_result",
          "data": {
            "text/plain": [
              "[False, True, False, True, False]"
            ]
          },
          "metadata": {},
          "execution_count": 12
        }
      ]
    },
    {
      "cell_type": "code",
      "source": [
        "rdd_texto = sc.parallelize(['jose','juan','lucia'])"
      ],
      "metadata": {
        "id": "Aa_5ZiYd0Y1u"
      },
      "execution_count": 13,
      "outputs": []
    },
    {
      "cell_type": "code",
      "source": [
        "rdd_mayuscula = rdd_texto.map(lambda a : a.upper())\n",
        "rdd_mayuscula.collect()"
      ],
      "metadata": {
        "colab": {
          "base_uri": "https://localhost:8080/"
        },
        "id": "ytyXFgy30fSP",
        "outputId": "3e796941-6785-4837-f282-7994e836d5f7"
      },
      "execution_count": 14,
      "outputs": [
        {
          "output_type": "execute_result",
          "data": {
            "text/plain": [
              "['JOSE', 'JUAN', 'LUCIA']"
            ]
          },
          "metadata": {},
          "execution_count": 14
        }
      ]
    },
    {
      "cell_type": "code",
      "source": [
        "rdd_hola = rdd_mayuscula.map( lambda a: 'Hola '+ a)\n",
        "rdd_hola.collect()"
      ],
      "metadata": {
        "colab": {
          "base_uri": "https://localhost:8080/"
        },
        "id": "5dPyorek0nPt",
        "outputId": "9182e34c-532a-4379-8177-762feec3ab97"
      },
      "execution_count": 15,
      "outputs": [
        {
          "output_type": "execute_result",
          "data": {
            "text/plain": [
              "['Hola JOSE', 'Hola JUAN', 'Hola LUCIA']"
            ]
          },
          "metadata": {},
          "execution_count": 15
        }
      ]
    },
    {
      "cell_type": "markdown",
      "source": [
        "Transformación flatMap"
      ],
      "metadata": {
        "id": "XwNIQ4To02KV"
      }
    },
    {
      "cell_type": "code",
      "source": [
        "rdd = sc.parallelize([1,2,3,4,5])"
      ],
      "metadata": {
        "id": "9xVvgsjC1HNV"
      },
      "execution_count": 16,
      "outputs": []
    },
    {
      "cell_type": "code",
      "source": [
        "rdd_cuadrado = rdd.map(lambda a: (a,a*a))\n",
        "rdd_cuadrado.collect()"
      ],
      "metadata": {
        "colab": {
          "base_uri": "https://localhost:8080/"
        },
        "id": "oFF3NIxc1LMQ",
        "outputId": "28d395bf-374b-44dc-f3c4-a8064c4f8e6c"
      },
      "execution_count": 18,
      "outputs": [
        {
          "output_type": "execute_result",
          "data": {
            "text/plain": [
              "[(1, 1), (2, 4), (3, 9), (4, 16), (5, 25)]"
            ]
          },
          "metadata": {},
          "execution_count": 18
        }
      ]
    },
    {
      "cell_type": "code",
      "source": [
        "rdd_cuadrado_flat = rdd.flatMap(lambda x  : (x,x**2))\n",
        "rdd_cuadrado_flat.collect()"
      ],
      "metadata": {
        "colab": {
          "base_uri": "https://localhost:8080/"
        },
        "id": "x0MH9epi1SMV",
        "outputId": "d0faa0c4-6b8d-427e-d708-2134337eb29c"
      },
      "execution_count": 19,
      "outputs": [
        {
          "output_type": "execute_result",
          "data": {
            "text/plain": [
              "[1, 1, 2, 4, 3, 9, 4, 16, 5, 25]"
            ]
          },
          "metadata": {},
          "execution_count": 19
        }
      ]
    },
    {
      "cell_type": "code",
      "source": [
        "rdd_texto = sc.parallelize(['jose','juan','lucia'])\n",
        "rdd_mayuscula = rdd_texto.flatMap( lambda x : (x, x.upper()))\n",
        "rdd_mayuscula.collect()"
      ],
      "metadata": {
        "colab": {
          "base_uri": "https://localhost:8080/"
        },
        "id": "ycuLWb4L1uPF",
        "outputId": "b6c93377-f048-407b-d672-b7c5c2093736"
      },
      "execution_count": 21,
      "outputs": [
        {
          "output_type": "execute_result",
          "data": {
            "text/plain": [
              "['jose', 'JOSE', 'juan', 'JUAN', 'lucia', 'LUCIA']"
            ]
          },
          "metadata": {},
          "execution_count": 21
        }
      ]
    },
    {
      "cell_type": "markdown",
      "source": [
        "Filter"
      ],
      "metadata": {
        "id": "khg6cgsl2EjF"
      }
    },
    {
      "cell_type": "code",
      "source": [
        "rdd = sc.parallelize([1,2,3,4,5,6,7,8,9])"
      ],
      "metadata": {
        "id": "YjnZgiqo2GKl"
      },
      "execution_count": 22,
      "outputs": []
    },
    {
      "cell_type": "code",
      "source": [
        "rdd_par = rdd.filter(lambda a: a%2==0)\n",
        "rdd_par.collect()"
      ],
      "metadata": {
        "colab": {
          "base_uri": "https://localhost:8080/"
        },
        "id": "hPpQ1ngC2ONk",
        "outputId": "9672995e-fa12-451f-abe5-e6c3c3dea22a"
      },
      "execution_count": 23,
      "outputs": [
        {
          "output_type": "execute_result",
          "data": {
            "text/plain": [
              "[2, 4, 6, 8]"
            ]
          },
          "metadata": {},
          "execution_count": 23
        }
      ]
    },
    {
      "cell_type": "code",
      "source": [
        "rdd_texto = sc.parallelize(['jose','juaquin','juan','lucia','karla'])"
      ],
      "metadata": {
        "id": "I0L023Uq2Wjq"
      },
      "execution_count": 24,
      "outputs": []
    },
    {
      "cell_type": "code",
      "source": [
        "rdd_k = rdd_texto.filter(lambda x: x.startswith('k'))\n",
        "rdd_k.collect()"
      ],
      "metadata": {
        "colab": {
          "base_uri": "https://localhost:8080/"
        },
        "id": "p2OF3Boe2oVY",
        "outputId": "f62c3dd8-de7f-4632-a767-dfedb2422779"
      },
      "execution_count": 25,
      "outputs": [
        {
          "output_type": "execute_result",
          "data": {
            "text/plain": [
              "['karla']"
            ]
          },
          "metadata": {},
          "execution_count": 25
        }
      ]
    },
    {
      "cell_type": "code",
      "source": [
        "rdd_filtro = rdd_texto.filter(lambda x: x.startswith('j') and x.find('u')==1)\n",
        "rdd_filtro.collect()"
      ],
      "metadata": {
        "colab": {
          "base_uri": "https://localhost:8080/"
        },
        "id": "eNs-WQNZ2yXx",
        "outputId": "8d96a6e5-d767-4b12-c708-4a2ae9a73f77"
      },
      "execution_count": 27,
      "outputs": [
        {
          "output_type": "execute_result",
          "data": {
            "text/plain": [
              "['juaquin', 'juan']"
            ]
          },
          "metadata": {},
          "execution_count": 27
        }
      ]
    },
    {
      "cell_type": "markdown",
      "source": [
        "coalesce  (operación costosa)"
      ],
      "metadata": {
        "id": "GDcj2M2d2-7W"
      }
    },
    {
      "cell_type": "code",
      "source": [
        "rdd = sc.parallelize([1,2,3.4,4,5],10)\n",
        "rdd.getNumPartitions()\n"
      ],
      "metadata": {
        "colab": {
          "base_uri": "https://localhost:8080/"
        },
        "id": "rjOYX9gf3Ajf",
        "outputId": "a7d9d32c-508e-48e3-82a8-9c63a69a9af6"
      },
      "execution_count": 28,
      "outputs": [
        {
          "output_type": "execute_result",
          "data": {
            "text/plain": [
              "10"
            ]
          },
          "metadata": {},
          "execution_count": 28
        }
      ]
    },
    {
      "cell_type": "code",
      "source": [
        "rdd5 = rdd.coalesce(5)\n",
        "rdd5.getNumPartitions()"
      ],
      "metadata": {
        "colab": {
          "base_uri": "https://localhost:8080/"
        },
        "id": "Adp32Oxi3RwJ",
        "outputId": "b51c184d-5b27-4622-e100-87985b49fdbf"
      },
      "execution_count": 30,
      "outputs": [
        {
          "output_type": "execute_result",
          "data": {
            "text/plain": [
              "5"
            ]
          },
          "metadata": {},
          "execution_count": 30
        }
      ]
    },
    {
      "cell_type": "markdown",
      "source": [
        "Repartition (Operación costosa)"
      ],
      "metadata": {
        "id": "yF9B8sNj3tZl"
      }
    },
    {
      "cell_type": "code",
      "source": [
        "rdd = sc.parallelize([1,2,3,4,5],3)\n",
        "rdd.getNumPartitions()"
      ],
      "metadata": {
        "colab": {
          "base_uri": "https://localhost:8080/"
        },
        "id": "qLGQcQHp3en-",
        "outputId": "8f53b277-9910-4bf2-f454-198f35f9c5c7"
      },
      "execution_count": 31,
      "outputs": [
        {
          "output_type": "execute_result",
          "data": {
            "text/plain": [
              "3"
            ]
          },
          "metadata": {},
          "execution_count": 31
        }
      ]
    },
    {
      "cell_type": "code",
      "source": [
        "rdd7= rdd.repartition(7)\n",
        "rdd7.getNumPartitions()"
      ],
      "metadata": {
        "colab": {
          "base_uri": "https://localhost:8080/"
        },
        "id": "y1i3VXwo3zVL",
        "outputId": "b062017b-3a04-4e2d-fd97-b79a3c0dd799"
      },
      "execution_count": 32,
      "outputs": [
        {
          "output_type": "execute_result",
          "data": {
            "text/plain": [
              "7"
            ]
          },
          "metadata": {},
          "execution_count": 32
        }
      ]
    },
    {
      "cell_type": "markdown",
      "source": [
        "ReducebyKey"
      ],
      "metadata": {
        "id": "0fFST5fG4Lot"
      }
    },
    {
      "cell_type": "code",
      "source": [
        "rdd = sc.parallelize(\n",
        "    [('casa', 2),\n",
        "     ('parque', 1),\n",
        "     ('que', 5),\n",
        "     ('casa', 1),\n",
        "     ('escuela', 2),\n",
        "     ('casa', 1),\n",
        "     ('que', 1)]\n",
        ")"
      ],
      "metadata": {
        "id": "dRMJYXrE4KVd"
      },
      "execution_count": 33,
      "outputs": []
    },
    {
      "cell_type": "code",
      "source": [
        "rdd.collect()"
      ],
      "metadata": {
        "colab": {
          "base_uri": "https://localhost:8080/"
        },
        "id": "eI7h6t224jEn",
        "outputId": "b91e02b0-2aac-4a36-d118-b3aa049a74e5"
      },
      "execution_count": 34,
      "outputs": [
        {
          "output_type": "execute_result",
          "data": {
            "text/plain": [
              "[('casa', 2),\n",
              " ('parque', 1),\n",
              " ('que', 5),\n",
              " ('casa', 1),\n",
              " ('escuela', 2),\n",
              " ('casa', 1),\n",
              " ('que', 1)]"
            ]
          },
          "metadata": {},
          "execution_count": 34
        }
      ]
    },
    {
      "cell_type": "code",
      "source": [
        "rdd_reducido = rdd.reduceByKey(lambda a,b: a+b)\n",
        "rdd_reducido.collect()"
      ],
      "metadata": {
        "colab": {
          "base_uri": "https://localhost:8080/"
        },
        "id": "EXr2VnkL4l0d",
        "outputId": "26359282-97c2-42a9-fbb3-d123faa9d190"
      },
      "execution_count": 35,
      "outputs": [
        {
          "output_type": "execute_result",
          "data": {
            "text/plain": [
              "[('casa', 4), ('parque', 1), ('que', 6), ('escuela', 2)]"
            ]
          },
          "metadata": {},
          "execution_count": 35
        }
      ]
    },
    {
      "cell_type": "code",
      "source": [],
      "metadata": {
        "id": "gWptHddf4xdO"
      },
      "execution_count": null,
      "outputs": []
    },
    {
      "cell_type": "markdown",
      "source": [
        "## Acciones en un RDD"
      ],
      "metadata": {
        "id": "UUVejHhR5mR1"
      }
    },
    {
      "cell_type": "markdown",
      "source": [
        "Reduce"
      ],
      "metadata": {
        "id": "w09JZ_aD7Smv"
      }
    },
    {
      "cell_type": "code",
      "source": [
        "rdd = sc.parallelize([2,4,6,8])\n",
        "rdd.reduce(lambda x,y: x + y)"
      ],
      "metadata": {
        "colab": {
          "base_uri": "https://localhost:8080/"
        },
        "id": "g1cscz_I5qM1",
        "outputId": "1d5de2ff-6b4d-4c9f-9bb8-368c5dd21989"
      },
      "execution_count": 36,
      "outputs": [
        {
          "output_type": "execute_result",
          "data": {
            "text/plain": [
              "20"
            ]
          },
          "metadata": {},
          "execution_count": 36
        }
      ]
    },
    {
      "cell_type": "code",
      "source": [
        "rdd1 = sc.parallelize([1,2,3,4])\n",
        "rdd1.reduce(lambda x,y: x * y)"
      ],
      "metadata": {
        "colab": {
          "base_uri": "https://localhost:8080/"
        },
        "id": "hdWKfd-T7G0n",
        "outputId": "4f7f15e0-50e0-4a2e-9968-431bdd2a4f9d"
      },
      "execution_count": 37,
      "outputs": [
        {
          "output_type": "execute_result",
          "data": {
            "text/plain": [
              "24"
            ]
          },
          "metadata": {},
          "execution_count": 37
        }
      ]
    },
    {
      "cell_type": "markdown",
      "source": [
        "Count"
      ],
      "metadata": {
        "id": "A0QkfdtJ7TqO"
      }
    },
    {
      "cell_type": "code",
      "source": [
        "rdd = sc.parallelize(['a','b','e','l'])\n",
        "rdd.count()"
      ],
      "metadata": {
        "colab": {
          "base_uri": "https://localhost:8080/"
        },
        "id": "_QP7tCrB7blF",
        "outputId": "c446daa5-055d-4522-9a05-50d77f343170"
      },
      "execution_count": 42,
      "outputs": [
        {
          "output_type": "execute_result",
          "data": {
            "text/plain": [
              "4"
            ]
          },
          "metadata": {},
          "execution_count": 42
        }
      ]
    },
    {
      "cell_type": "code",
      "source": [
        "rdd1 = sc.parallelize([item for item in range(10)])\n",
        "rdd1.count()"
      ],
      "metadata": {
        "colab": {
          "base_uri": "https://localhost:8080/"
        },
        "id": "wmItoQ487jkV",
        "outputId": "547bbe8f-3f80-4fb4-8b59-306710a58dc0"
      },
      "execution_count": 39,
      "outputs": [
        {
          "output_type": "execute_result",
          "data": {
            "text/plain": [
              "10"
            ]
          },
          "metadata": {},
          "execution_count": 39
        }
      ]
    },
    {
      "cell_type": "markdown",
      "source": [
        "Collect"
      ],
      "metadata": {
        "id": "34eg_gyp7Vj9"
      }
    },
    {
      "cell_type": "code",
      "source": [
        "rdd1 = sc.parallelize([(item, item ** 2) for item in range(20)])\n",
        "rdd1.collect()"
      ],
      "metadata": {
        "colab": {
          "base_uri": "https://localhost:8080/"
        },
        "id": "sOzPHgaG7cJ1",
        "outputId": "05e080a8-7ab2-441f-cf74-b7b2027e277c"
      },
      "execution_count": 43,
      "outputs": [
        {
          "output_type": "execute_result",
          "data": {
            "text/plain": [
              "[(0, 0),\n",
              " (1, 1),\n",
              " (2, 4),\n",
              " (3, 9),\n",
              " (4, 16),\n",
              " (5, 25),\n",
              " (6, 36),\n",
              " (7, 49),\n",
              " (8, 64),\n",
              " (9, 81),\n",
              " (10, 100),\n",
              " (11, 121),\n",
              " (12, 144),\n",
              " (13, 169),\n",
              " (14, 196),\n",
              " (15, 225),\n",
              " (16, 256),\n",
              " (17, 289),\n",
              " (18, 324),\n",
              " (19, 361)]"
            ]
          },
          "metadata": {},
          "execution_count": 43
        }
      ]
    },
    {
      "cell_type": "markdown",
      "source": [
        "take, max, saveasTextFile"
      ],
      "metadata": {
        "id": "PhoITjjr7Wwt"
      }
    },
    {
      "cell_type": "code",
      "source": [
        "# take\n",
        "rdd = sc.parallelize('La programación es bella'.split(' '))\n",
        "rdd.take(2)"
      ],
      "metadata": {
        "colab": {
          "base_uri": "https://localhost:8080/"
        },
        "id": "oEXj-pa67Q3V",
        "outputId": "16bb3538-35a1-4dda-db7e-3fdbeaba9d6f"
      },
      "execution_count": 46,
      "outputs": [
        {
          "output_type": "execute_result",
          "data": {
            "text/plain": [
              "['La', 'programación']"
            ]
          },
          "metadata": {},
          "execution_count": 46
        }
      ]
    },
    {
      "cell_type": "code",
      "source": [
        "# max\n",
        "rdd1 = sc.parallelize([item/(item + 1) for item in range(10)])\n",
        "rdd1.max()"
      ],
      "metadata": {
        "colab": {
          "base_uri": "https://localhost:8080/"
        },
        "id": "RG7evVub8ZWl",
        "outputId": "03363adb-e445-46df-9a6b-9ca4ad685e32"
      },
      "execution_count": 47,
      "outputs": [
        {
          "output_type": "execute_result",
          "data": {
            "text/plain": [
              "0.9"
            ]
          },
          "metadata": {},
          "execution_count": 47
        }
      ]
    },
    {
      "cell_type": "code",
      "source": [
        "# saveAsTextFile\n",
        "rdd.collect()"
      ],
      "metadata": {
        "colab": {
          "base_uri": "https://localhost:8080/"
        },
        "id": "6WlHQ_Ih8aU1",
        "outputId": "414f0360-968c-4055-f099-6c2884ea6578"
      },
      "execution_count": 48,
      "outputs": [
        {
          "output_type": "execute_result",
          "data": {
            "text/plain": [
              "['La', 'programación', 'es', 'bella']"
            ]
          },
          "metadata": {},
          "execution_count": 48
        }
      ]
    },
    {
      "cell_type": "code",
      "source": [
        "rdd.saveAsTextFile('./rdd')\n",
        "rdd.coalesce(1).saveAsTextFile('./rdd1')"
      ],
      "metadata": {
        "id": "6pG6uzq18qBF"
      },
      "execution_count": 49,
      "outputs": []
    },
    {
      "cell_type": "markdown",
      "source": [
        "# Algunos conceptos con RDD"
      ],
      "metadata": {
        "id": "bulmjqV4vYGz"
      }
    },
    {
      "cell_type": "markdown",
      "source": [
        "Memoria en cache"
      ],
      "metadata": {
        "id": "sr49s0FZvgED"
      }
    },
    {
      "cell_type": "code",
      "source": [
        "rdd = sc.parallelize([item for item in range(10)])\n",
        "from pyspark.storagelevel import StorageLevel"
      ],
      "metadata": {
        "colab": {
          "base_uri": "https://localhost:8080/"
        },
        "id": "L3aKi7chwAA7",
        "outputId": "23d8344f-7214-48e6-e0e8-cd3e815ef6ef"
      },
      "execution_count": 5,
      "outputs": [
        {
          "output_type": "execute_result",
          "data": {
            "text/plain": [
              "ParallelCollectionRDD[0] at readRDDFromFile at PythonRDD.scala:289"
            ]
          },
          "metadata": {},
          "execution_count": 5
        }
      ]
    },
    {
      "cell_type": "code",
      "source": [
        "rdd.persist(StorageLevel.MEMORY_ONLY)\n",
        "rdd.unpersist()"
      ],
      "metadata": {
        "colab": {
          "base_uri": "https://localhost:8080/"
        },
        "id": "ja4_TMcKwi1b",
        "outputId": "8984f076-46e7-4a21-8ff5-0c749d6775d7"
      },
      "execution_count": 8,
      "outputs": [
        {
          "output_type": "execute_result",
          "data": {
            "text/plain": [
              "ParallelCollectionRDD[0] at readRDDFromFile at PythonRDD.scala:289"
            ]
          },
          "metadata": {},
          "execution_count": 8
        }
      ]
    },
    {
      "cell_type": "code",
      "source": [
        "rdd.persist(StorageLevel.DISK_ONLY)\n",
        "rdd.unpersist()"
      ],
      "metadata": {
        "colab": {
          "base_uri": "https://localhost:8080/"
        },
        "id": "IqOiVbspwgRL",
        "outputId": "3a566371-831f-43a0-8907-e10c36cbdd6c"
      },
      "execution_count": 9,
      "outputs": [
        {
          "output_type": "execute_result",
          "data": {
            "text/plain": [
              "ParallelCollectionRDD[0] at readRDDFromFile at PythonRDD.scala:289"
            ]
          },
          "metadata": {},
          "execution_count": 9
        }
      ]
    },
    {
      "cell_type": "code",
      "source": [
        "rdd.cache()"
      ],
      "metadata": {
        "colab": {
          "base_uri": "https://localhost:8080/"
        },
        "id": "6duNr6p4wogy",
        "outputId": "66f64801-d267-4d8f-d690-c310ddfe15d0"
      },
      "execution_count": 10,
      "outputs": [
        {
          "output_type": "execute_result",
          "data": {
            "text/plain": [
              "ParallelCollectionRDD[0] at readRDDFromFile at PythonRDD.scala:289"
            ]
          },
          "metadata": {},
          "execution_count": 10
        }
      ]
    },
    {
      "cell_type": "markdown",
      "source": [
        "Shuffling  \n",
        "(Movimiento de datos necesario para el reparticionamiento)"
      ],
      "metadata": {
        "id": "zQdemLdJwp8j"
      }
    },
    {
      "cell_type": "code",
      "source": [],
      "metadata": {
        "id": "V9S1ui8qww5T"
      },
      "execution_count": null,
      "outputs": []
    },
    {
      "cell_type": "markdown",
      "source": [
        "BroadCast Variables"
      ],
      "metadata": {
        "id": "11cJoYZwzp5z"
      }
    },
    {
      "cell_type": "code",
      "source": [
        "rdd = sc.parallelize([item for item in range(10)])\n",
        "uno = 1\n",
        "br_uno = sc.broadcast(uno)"
      ],
      "metadata": {
        "id": "zbVXmskQztXU"
      },
      "execution_count": 17,
      "outputs": []
    },
    {
      "cell_type": "code",
      "source": [
        "rdd1 = rdd.map(lambda x: x + br_uno.value)\n",
        "rdd1.collect()\n"
      ],
      "metadata": {
        "colab": {
          "base_uri": "https://localhost:8080/"
        },
        "id": "p8oPF4m1z9sE",
        "outputId": "94b2e9a4-a53b-4ac7-9432-6a4aa1db59d7"
      },
      "execution_count": 12,
      "outputs": [
        {
          "output_type": "execute_result",
          "data": {
            "text/plain": [
              "[1, 2, 3, 4, 5, 6, 7, 8, 9, 10]"
            ]
          },
          "metadata": {},
          "execution_count": 12
        }
      ]
    },
    {
      "cell_type": "code",
      "source": [
        "## BroadCast ocupan memoria en todos los ejecutores\n",
        "## Eliminar datos de broadcast de cache, eliminar de los ejecutores\n",
        "br_uno.unpersist()\n",
        "rdd1  = rdd.map(lambda x: x + br_uno.value)\n",
        "rdd1.collect()\n"
      ],
      "metadata": {
        "colab": {
          "base_uri": "https://localhost:8080/"
        },
        "id": "3UfXqRtS0BmE",
        "outputId": "810e51b3-5e70-475c-b4d8-62f85d8f316f"
      },
      "execution_count": 14,
      "outputs": [
        {
          "output_type": "execute_result",
          "data": {
            "text/plain": [
              "[1, 2, 3, 4, 5, 6, 7, 8, 9, 10]"
            ]
          },
          "metadata": {},
          "execution_count": 14
        }
      ]
    },
    {
      "cell_type": "code",
      "source": [
        "br_uno.destroy()"
      ],
      "metadata": {
        "id": "eUwIoUu30XhL"
      },
      "execution_count": 18,
      "outputs": []
    },
    {
      "cell_type": "markdown",
      "source": [
        "Acumuladores"
      ],
      "metadata": {
        "id": "Blqgr8hU027T"
      }
    },
    {
      "cell_type": "code",
      "source": [
        "rdd1 = sc.parallelize('Mi nombre es Jose Miguel y me siento genial'.split(' '))\n",
        "acumulador1 = sc.accumulator(0)\n",
        "rdd1.foreach(lambda x: acumulador1.add(1))\n",
        "print(acumulador1.value)"
      ],
      "metadata": {
        "colab": {
          "base_uri": "https://localhost:8080/"
        },
        "id": "amE-IvFN0ppU",
        "outputId": "c25a3ace-4771-4de5-ff63-8dba06ca0767"
      },
      "execution_count": 19,
      "outputs": [
        {
          "output_type": "stream",
          "name": "stdout",
          "text": [
            "9\n"
          ]
        }
      ]
    }
  ]
}