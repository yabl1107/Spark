{
  "nbformat": 4,
  "nbformat_minor": 0,
  "metadata": {
    "colab": {
      "provenance": []
    },
    "kernelspec": {
      "name": "python3",
      "display_name": "Python 3"
    },
    "language_info": {
      "name": "python"
    }
  },
  "cells": [
    {
      "cell_type": "code",
      "execution_count": 2,
      "metadata": {
        "id": "8FDmA4mDM80U"
      },
      "outputs": [],
      "source": [
        "from pyspark.sql import SparkSession"
      ]
    },
    {
      "cell_type": "code",
      "source": [
        "spark = SparkSession.builder.master(\"local[*]\").appName(\"MyApp\").getOrCreate()"
      ],
      "metadata": {
        "id": "vnmzdxgiNArE"
      },
      "execution_count": 5,
      "outputs": []
    },
    {
      "cell_type": "code",
      "source": [
        "sc = spark.sparkContext"
      ],
      "metadata": {
        "id": "uexH2oS_Ncsq"
      },
      "execution_count": 6,
      "outputs": []
    },
    {
      "cell_type": "code",
      "source": [
        "df = spark.read.parquet(\"/content/dataPARQUET.parquet\")"
      ],
      "metadata": {
        "id": "gb-Y3walNpK_"
      },
      "execution_count": 9,
      "outputs": []
    },
    {
      "cell_type": "code",
      "source": [
        "df.printSchema()"
      ],
      "metadata": {
        "colab": {
          "base_uri": "https://localhost:8080/"
        },
        "id": "CU9PuDPUN3we",
        "outputId": "80475506-2a68-4add-ad8b-b7b092d4d47f"
      },
      "execution_count": 10,
      "outputs": [
        {
          "output_type": "stream",
          "name": "stdout",
          "text": [
            "root\n",
            " |-- video_id: string (nullable = true)\n",
            " |-- trending_date: string (nullable = true)\n",
            " |-- title: string (nullable = true)\n",
            " |-- channel_title: string (nullable = true)\n",
            " |-- category_id: string (nullable = true)\n",
            " |-- publish_time: string (nullable = true)\n",
            " |-- tags: string (nullable = true)\n",
            " |-- views: string (nullable = true)\n",
            " |-- likes: string (nullable = true)\n",
            " |-- dislikes: string (nullable = true)\n",
            " |-- comment_count: string (nullable = true)\n",
            " |-- thumbnail_link: string (nullable = true)\n",
            " |-- comments_disabled: string (nullable = true)\n",
            " |-- ratings_disabled: string (nullable = true)\n",
            " |-- video_error_or_removed: string (nullable = true)\n",
            " |-- description: string (nullable = true)\n",
            "\n"
          ]
        }
      ]
    },
    {
      "cell_type": "code",
      "source": [
        "# Alternativa, importado la funcion col\n",
        "from pyspark.sql.functions import col\n",
        "df.select(col('title')).show()"
      ],
      "metadata": {
        "colab": {
          "base_uri": "https://localhost:8080/"
        },
        "id": "DainOp9IOioA",
        "outputId": "9d947d98-5f59-4fd3-b58b-f1ec3967ee9a"
      },
      "execution_count": 14,
      "outputs": [
        {
          "output_type": "stream",
          "name": "stdout",
          "text": [
            "+--------------------+\n",
            "|               title|\n",
            "+--------------------+\n",
            "|WE WANT TO TALK A...|\n",
            "|The Trump Preside...|\n",
            "|Racist Superman |...|\n",
            "|Nickelback Lyrics...|\n",
            "|I Dare You: GOING...|\n",
            "|2 Weeks with iPho...|\n",
            "|Roy Moore & Jeff ...|\n",
            "|5 Ice Cream Gadge...|\n",
            "|The Greatest Show...|\n",
            "|Why the rise of t...|\n",
            "|Dion Lewis' 103-Y...|\n",
            "|(SPOILERS) 'Shiva...|\n",
            "|Marshmello - Bloc...|\n",
            "|Which Countries A...|\n",
            "|SHOPPING FOR NEW ...|\n",
            "|    The New SpotMini|\n",
            "|One Change That W...|\n",
            "|How does your bod...|\n",
            "|HomeMade Electric...|\n",
            "|Founding An Inbre...|\n",
            "+--------------------+\n",
            "only showing top 20 rows\n",
            "\n"
          ]
        }
      ]
    },
    {
      "cell_type": "markdown",
      "source": [
        "<H1>TRANSFORMACIONES"
      ],
      "metadata": {
        "id": "IL46r-7uO_P3"
      }
    },
    {
      "cell_type": "markdown",
      "source": [
        "## Select y SelectExpr"
      ],
      "metadata": {
        "id": "-cNjS4uoO34v"
      }
    },
    {
      "cell_type": "code",
      "source": [
        "df.select(col('title'), col('channel_title')).show()"
      ],
      "metadata": {
        "colab": {
          "base_uri": "https://localhost:8080/"
        },
        "id": "NYXf0q5MOrDf",
        "outputId": "b69ca90a-03e1-4637-94f2-7e067291d965"
      },
      "execution_count": 17,
      "outputs": [
        {
          "output_type": "stream",
          "name": "stdout",
          "text": [
            "+--------------------+--------------------+\n",
            "|               title|       channel_title|\n",
            "+--------------------+--------------------+\n",
            "|WE WANT TO TALK A...|        CaseyNeistat|\n",
            "|The Trump Preside...|     LastWeekTonight|\n",
            "|Racist Superman |...|        Rudy Mancuso|\n",
            "|Nickelback Lyrics...|Good Mythical Mor...|\n",
            "|I Dare You: GOING...|            nigahiga|\n",
            "|2 Weeks with iPho...|            iJustine|\n",
            "|Roy Moore & Jeff ...| Saturday Night Live|\n",
            "|5 Ice Cream Gadge...|  CrazyRussianHacker|\n",
            "|The Greatest Show...|    20th Century Fox|\n",
            "|Why the rise of t...|                 Vox|\n",
            "|Dion Lewis' 103-Y...|                 NFL|\n",
            "|(SPOILERS) 'Shiva...|                 amc|\n",
            "|Marshmello - Bloc...|          marshmello|\n",
            "|Which Countries A...|       NowThis World|\n",
            "|SHOPPING FOR NEW ...|     The king of DIY|\n",
            "|    The New SpotMini|      BostonDynamics|\n",
            "|One Change That W...|             Cracked|\n",
            "|How does your bod...|              TED-Ed|\n",
            "|HomeMade Electric...|         PeterSripol|\n",
            "|Founding An Inbre...|             SciShow|\n",
            "+--------------------+--------------------+\n",
            "only showing top 20 rows\n",
            "\n"
          ]
        }
      ]
    },
    {
      "cell_type": "code",
      "source": [
        "df.select(\n",
        "    'likes',\n",
        "    'dislikes',\n",
        "    'views',\n",
        "    (col('likes') - col('dislikes')).alias('acceptance')\n",
        ").show()"
      ],
      "metadata": {
        "colab": {
          "base_uri": "https://localhost:8080/"
        },
        "id": "j32yte3NPHCD",
        "outputId": "8a399cdd-cef5-4481-97b3-c422cac9f668"
      },
      "execution_count": 22,
      "outputs": [
        {
          "output_type": "stream",
          "name": "stdout",
          "text": [
            "+------+--------+-------+----------+\n",
            "| likes|dislikes|  views|acceptance|\n",
            "+------+--------+-------+----------+\n",
            "| 57527|    2966| 748374|   54561.0|\n",
            "| 97185|    6146|2418783|   91039.0|\n",
            "|146033|    5339|3191434|  140694.0|\n",
            "| 10172|     666| 343168|    9506.0|\n",
            "|132235|    1989|2095731|  130246.0|\n",
            "|  9763|     511| 119180|    9252.0|\n",
            "| 15993|    2445|2103417|   13548.0|\n",
            "| 23663|     778| 817732|   22885.0|\n",
            "|  3543|     119| 826059|    3424.0|\n",
            "| 12654|    1363| 256426|   11291.0|\n",
            "|   655|      25|  81377|     630.0|\n",
            "|  1576|     303| 104578|    1273.0|\n",
            "|114188|    1333| 687582|  112855.0|\n",
            "|  7848|    1171| 544770|    6677.0|\n",
            "|  7473|     246| 207532|    7227.0|\n",
            "|  9419|      52|  75752|    9367.0|\n",
            "|  8011|     638| 295639|    7373.0|\n",
            "|  5398|      53|  78044|    5345.0|\n",
            "| 11963|      36|  97007|   11927.0|\n",
            "|  8421|     191| 223871|    8230.0|\n",
            "+------+--------+-------+----------+\n",
            "only showing top 20 rows\n",
            "\n"
          ]
        }
      ]
    },
    {
      "cell_type": "code",
      "source": [
        "df.selectExpr(\n",
        "    'likes',\n",
        "    'dislikes',\n",
        "    'views',\n",
        "    '(likes - dislikes) as acceptance'\n",
        ").show()"
      ],
      "metadata": {
        "colab": {
          "base_uri": "https://localhost:8080/"
        },
        "id": "H0V81EUdPvqG",
        "outputId": "a821922f-c39c-458a-9f0a-ba458010f824"
      },
      "execution_count": 23,
      "outputs": [
        {
          "output_type": "stream",
          "name": "stdout",
          "text": [
            "+------+--------+-------+----------+\n",
            "| likes|dislikes|  views|acceptance|\n",
            "+------+--------+-------+----------+\n",
            "| 57527|    2966| 748374|   54561.0|\n",
            "| 97185|    6146|2418783|   91039.0|\n",
            "|146033|    5339|3191434|  140694.0|\n",
            "| 10172|     666| 343168|    9506.0|\n",
            "|132235|    1989|2095731|  130246.0|\n",
            "|  9763|     511| 119180|    9252.0|\n",
            "| 15993|    2445|2103417|   13548.0|\n",
            "| 23663|     778| 817732|   22885.0|\n",
            "|  3543|     119| 826059|    3424.0|\n",
            "| 12654|    1363| 256426|   11291.0|\n",
            "|   655|      25|  81377|     630.0|\n",
            "|  1576|     303| 104578|    1273.0|\n",
            "|114188|    1333| 687582|  112855.0|\n",
            "|  7848|    1171| 544770|    6677.0|\n",
            "|  7473|     246| 207532|    7227.0|\n",
            "|  9419|      52|  75752|    9367.0|\n",
            "|  8011|     638| 295639|    7373.0|\n",
            "|  5398|      53|  78044|    5345.0|\n",
            "| 11963|      36|  97007|   11927.0|\n",
            "|  8421|     191| 223871|    8230.0|\n",
            "+------+--------+-------+----------+\n",
            "only showing top 20 rows\n",
            "\n"
          ]
        }
      ]
    },
    {
      "cell_type": "code",
      "source": [
        "df.selectExpr('count(distinct(video_id)) as videos').show()"
      ],
      "metadata": {
        "colab": {
          "base_uri": "https://localhost:8080/"
        },
        "id": "GxTK_AMuPXSY",
        "outputId": "f59c79f5-d9aa-4864-b804-c14cacfcaafa"
      },
      "execution_count": 24,
      "outputs": [
        {
          "output_type": "stream",
          "name": "stdout",
          "text": [
            "+------+\n",
            "|videos|\n",
            "+------+\n",
            "|  6837|\n",
            "+------+\n",
            "\n"
          ]
        }
      ]
    },
    {
      "cell_type": "markdown",
      "source": [
        "## Filter y Where"
      ],
      "metadata": {
        "id": "uwh3-vrbQM_v"
      }
    },
    {
      "cell_type": "code",
      "source": [
        "df.filter(col('likes') < 100).select('likes','title').show()"
      ],
      "metadata": {
        "colab": {
          "base_uri": "https://localhost:8080/"
        },
        "id": "1H3VRfF4QH2T",
        "outputId": "e384a1e7-0db9-4fde-84fe-68daacae8fd8"
      },
      "execution_count": 27,
      "outputs": [
        {
          "output_type": "stream",
          "name": "stdout",
          "text": [
            "+-----+--------------------+\n",
            "|likes|               title|\n",
            "+-----+--------------------+\n",
            "|    7|Dennis Smith Jr. ...|\n",
            "|   35|Heidelberg's nift...|\n",
            "|   21|Kellyanne Conway ...|\n",
            "|   89|Train Swipes Park...|\n",
            "|   52|7.3 Magnitude Ear...|\n",
            "|   67|Some NFL players ...|\n",
            "|   49|The Oak Beams of ...|\n",
            "|    2|Huffy Metaloid Bi...|\n",
            "|   22|Caterham Chris Ho...|\n",
            "|   40|Basmati Blues - T...|\n",
            "|    3|Sphaera - demonst...|\n",
            "|    0|  Apple Clips sample|\n",
            "|   57|World's first sel...|\n",
            "|   62|Does Gwen Stefani...|\n",
            "|   61|Amazon CEO Jeff B...|\n",
            "|   75|Taylor Swift Inst...|\n",
            "|   87|Willie Reed and J...|\n",
            "|   83|Dennis Smith Jr. ...|\n",
            "|   33|Joel Embiid on wi...|\n",
            "|   23|Kellyanne Conway ...|\n",
            "+-----+--------------------+\n",
            "only showing top 20 rows\n",
            "\n"
          ]
        }
      ]
    },
    {
      "cell_type": "code",
      "source": [
        " df1 = spark.read.parquet(\"/content/dataPARQUET.parquet\").where(col('likes') < 100).select('likes','title')"
      ],
      "metadata": {
        "id": "BJLgkzJ5QiVn"
      },
      "execution_count": 31,
      "outputs": []
    },
    {
      "cell_type": "code",
      "source": [
        "df1.show(truncate=False)"
      ],
      "metadata": {
        "colab": {
          "base_uri": "https://localhost:8080/"
        },
        "id": "c5OYlhkbRI9P",
        "outputId": "e86dc3c5-ca0e-4d14-883c-e59d04c51ad3"
      },
      "execution_count": 33,
      "outputs": [
        {
          "output_type": "stream",
          "name": "stdout",
          "text": [
            "+-----+----------------------------------------------------------------------------------------------------+\n",
            "|likes|title                                                                                               |\n",
            "+-----+----------------------------------------------------------------------------------------------------+\n",
            "|7    |Dennis Smith Jr. and LeBron James go back and forth                                                 |\n",
            "|35   |Heidelberg's nifty hook-and-lateral to the left tackle                                              |\n",
            "|21   |Kellyanne Conway on Roy Moore This Week Abc: Trump’s Not Being Briefed On This Bit By Bit 11/12/17  |\n",
            "|89   |Train Swipes Parked Vehicle                                                                         |\n",
            "|52   |7.3 Magnitude Earthquake Along Iraq-Iran Border Leaves At Least 400 Dead, 7,200 Injured | TIME      |\n",
            "|67   |Some NFL players call for an end to Thursday night football after 8 players were injured last week  |\n",
            "|49   |The Oak Beams of New College, Oxford                                                                |\n",
            "|2    |Huffy Metaloid Bicycle Commercial 1997                                                              |\n",
            "|22   |Caterham Chris Hoy 60 Second Donut Challenge                                                        |\n",
            "|40   |Basmati Blues - Trailer                                                                             |\n",
            "|3    |Sphaera - demonstrating interaction                                                                 |\n",
            "|0    |Apple Clips sample                                                                                  |\n",
            "|57   |World's first self-driving shuttle crashes on first day of use                                      |\n",
            "|62   |Does Gwen Stefani Know If Blake Shelton Is People's Sexiest Man Alive? | Access Hollywood           |\n",
            "|61   |Amazon CEO Jeff Bezos and brother Mark give a rare interview about growing up and secrets to success|\n",
            "|75   |Taylor Swift Instagram Story - Target 11/14/17                                                      |\n",
            "|87   |Willie Reed and Joel Embiid Fight！Embiid saying HE CANT FUCKIN GUARD ME!                           |\n",
            "|83   |Dennis Smith Jr. and LeBron James go back and forth                                                 |\n",
            "|33   |Joel Embiid on win over Clippers, scuffle with Willie Reed and using social media | NBA on ESPN     |\n",
            "|23   |Kellyanne Conway on Roy Moore This Week Abc: Trump’s Not Being Briefed On This Bit By Bit 11/12/17  |\n",
            "+-----+----------------------------------------------------------------------------------------------------+\n",
            "only showing top 20 rows\n",
            "\n"
          ]
        }
      ]
    },
    {
      "cell_type": "code",
      "source": [
        "df_cero_likes = df1.filter((col('likes') > 50) & (col('likes') < 70))\n",
        "df_cero_likes.show(truncate=False)"
      ],
      "metadata": {
        "colab": {
          "base_uri": "https://localhost:8080/"
        },
        "id": "VhjYFdVSRTo5",
        "outputId": "de69e97d-29dd-453f-87a0-f14f4b74ba56"
      },
      "execution_count": 39,
      "outputs": [
        {
          "output_type": "stream",
          "name": "stdout",
          "text": [
            "+-----+----------------------------------------------------------------------------------------------------+\n",
            "|likes|title                                                                                               |\n",
            "+-----+----------------------------------------------------------------------------------------------------+\n",
            "|52   |7.3 Magnitude Earthquake Along Iraq-Iran Border Leaves At Least 400 Dead, 7,200 Injured | TIME      |\n",
            "|67   |Some NFL players call for an end to Thursday night football after 8 players were injured last week  |\n",
            "|57   |World's first self-driving shuttle crashes on first day of use                                      |\n",
            "|62   |Does Gwen Stefani Know If Blake Shelton Is People's Sexiest Man Alive? | Access Hollywood           |\n",
            "|61   |Amazon CEO Jeff Bezos and brother Mark give a rare interview about growing up and secrets to success|\n",
            "|54   |Joel Embiid on win over Clippers, scuffle with Willie Reed and using social media | NBA on ESPN     |\n",
            "|58   |Joel Embiid on win over Clippers, scuffle with Willie Reed and using social media | NBA on ESPN     |\n",
            "|68   |Roomba Rodeo                                                                                        |\n",
            "|58   |Joel Embiid on win over Clippers, scuffle with Willie Reed and using social media | NBA on ESPN     |\n",
            "|58   |Joel Embiid on win over Clippers, scuffle with Willie Reed and using social media | NBA on ESPN     |\n",
            "|51   |Trump pardons Thanksgiving turkey                                                                   |\n",
            "|54   |President Donald Trump Pardons His First Thanksgiving Turkey At White House Ceremony | NBC News     |\n",
            "|57   |2017 American Music Awards: Red Carpet Fashion | E! News                                            |\n",
            "|55   |Alex Williams  - Prize-winning Designer of the Open Source Underwater Glider                        |\n",
            "|55   |President Donald Trump Pardons His First Thanksgiving Turkey At White House Ceremony | NBC News     |\n",
            "|60   |2017 American Music Awards: Red Carpet Fashion | E! News                                            |\n",
            "|56   |President Donald Trump Pardons His First Thanksgiving Turkey At White House Ceremony | NBC News     |\n",
            "|60   |2017 American Music Awards: Red Carpet Fashion | E! News                                            |\n",
            "|56   |President Donald Trump Pardons His First Thanksgiving Turkey At White House Ceremony | NBC News     |\n",
            "|60   |2017 American Music Awards: Red Carpet Fashion | E! News                                            |\n",
            "+-----+----------------------------------------------------------------------------------------------------+\n",
            "only showing top 20 rows\n",
            "\n"
          ]
        }
      ]
    },
    {
      "cell_type": "markdown",
      "source": [
        "## Funciones distinct y dropDuplicates"
      ],
      "metadata": {
        "id": "Gwj8aKCgSUnX"
      }
    },
    {
      "cell_type": "code",
      "source": [
        "df_sin_duplicados = df.distinct()"
      ],
      "metadata": {
        "id": "mhU8hWNNSUOg"
      },
      "execution_count": 42,
      "outputs": []
    },
    {
      "cell_type": "code",
      "source": [
        "print(\"El conteo del dataframe original es {}\".format(df.count()))\n",
        "print(\"El conteo del dataframe sin duplicados es {}\".format(df_sin_duplicados.count()))"
      ],
      "metadata": {
        "colab": {
          "base_uri": "https://localhost:8080/"
        },
        "id": "9hl9m2gKSnZ3",
        "outputId": "499aead0-9b66-439a-f51b-3684740ac943"
      },
      "execution_count": 43,
      "outputs": [
        {
          "output_type": "stream",
          "name": "stdout",
          "text": [
            "El conteo del dataframe original es 48137\n",
            "El conteo del dataframe sin duplicados es 41497\n"
          ]
        }
      ]
    },
    {
      "cell_type": "markdown",
      "source": [
        "DropDuplicates a diferencia de distinct, permite indicar que columnas se consideran para establecer que es duplicado."
      ],
      "metadata": {
        "id": "icVq-hOQTAK_"
      }
    },
    {
      "cell_type": "code",
      "source": [
        "## Funcion drop duplicates\n",
        "df_no_duplicados = df.dropDuplicates(['title'])"
      ],
      "metadata": {
        "id": "8H0Z8-u3Suz7"
      },
      "execution_count": 44,
      "outputs": []
    },
    {
      "cell_type": "code",
      "source": [
        "print(\"El conteo del dataframe original es {}\".format(df.count()))\n",
        "print(\"El conteo del dataframe sin duplicados es {}\".format(df_no_duplicados.count()))"
      ],
      "metadata": {
        "colab": {
          "base_uri": "https://localhost:8080/"
        },
        "id": "iDz8tuBlTNJn",
        "outputId": "5a8280b2-5bbd-41da-a787-a039fb47b5e4"
      },
      "execution_count": 45,
      "outputs": [
        {
          "output_type": "stream",
          "name": "stdout",
          "text": [
            "El conteo del dataframe original es 48137\n",
            "El conteo del dataframe sin duplicados es 6508\n"
          ]
        }
      ]
    },
    {
      "cell_type": "markdown",
      "source": [
        "## Sort y order by"
      ],
      "metadata": {
        "id": "_dPx8UNXTTUf"
      }
    },
    {
      "cell_type": "code",
      "source": [
        "df = (spark.read.parquet(\"/content/dataPARQUET.parquet\")\n",
        ".select('likes','views','video_id','dislikes')\n",
        ".dropDuplicates(['video_id'])\n",
        "      )"
      ],
      "metadata": {
        "id": "uIFeOEabTU8H"
      },
      "execution_count": 46,
      "outputs": []
    },
    {
      "cell_type": "code",
      "source": [
        "df.show()"
      ],
      "metadata": {
        "colab": {
          "base_uri": "https://localhost:8080/"
        },
        "id": "X3Fr10l1TVX3",
        "outputId": "f28721d3-a93d-4207-f2d4-70cd3f2ff92a"
      },
      "execution_count": 47,
      "outputs": [
        {
          "output_type": "stream",
          "name": "stdout",
          "text": [
            "+-----+-------+-----------+--------+\n",
            "|likes|  views|   video_id|dislikes|\n",
            "+-----+-------+-----------+--------+\n",
            "| 6531| 475965|-0CMnp02rNY|     172|\n",
            "| 4429| 563746|-0NYY8cqdiQ|      54|\n",
            "|32752|1566807|-1Hm41N0dUs|     393|\n",
            "| 5214| 129360|-1yT-K3c6YI|     108|\n",
            "|  438|  67429|-2RVw2_QyxQ|      23|\n",
            "|19339|1012527|-2aVkGcI7ZA|     633|\n",
            "| 1444|  84744|-2b4qSoMnKE|     199|\n",
            "|10350| 703371|-2wRFv-mScQ|     260|\n",
            "|73480| 545655|-35jibKqbEo|     727|\n",
            "|    2|   2863|-37nIo_tLnk|       0|\n",
            "| 4028| 385104|-39ysKKpE7I|     343|\n",
            "| 6468| 230360|-3h4Xt9No9o|     177|\n",
            "|10384| 249601|-3nEHRN6IPg|     370|\n",
            "|38776| 296237|-4s2MeUgduo|     466|\n",
            "|71090| 390631|-5aaJJQFvOg|     635|\n",
            "|21224| 744363|-66xHRJSPxs|     534|\n",
            "|17882| 363370|-7AZX5Xtiks|     416|\n",
            "|36960| 908989|-7UzyXO-mzk|     434|\n",
            "|17120|1815030|-7_ATlZ-zMc|     633|\n",
            "|  760| 252542|-8ZHXaGILlc|     100|\n",
            "+-----+-------+-----------+--------+\n",
            "only showing top 20 rows\n",
            "\n"
          ]
        }
      ]
    },
    {
      "cell_type": "code",
      "source": [
        "df.sort('likes').show()"
      ],
      "metadata": {
        "colab": {
          "base_uri": "https://localhost:8080/"
        },
        "id": "GEOR_TJKT_iv",
        "outputId": "f5fb13cc-ca74-4c1e-8a8e-bf8a1911f007"
      },
      "execution_count": 48,
      "outputs": [
        {
          "output_type": "stream",
          "name": "stdout",
          "text": [
            "+-----+-----+--------------------+--------+\n",
            "|likes|views|            video_id|dislikes|\n",
            "+-----+-----+--------------------+--------+\n",
            "| NULL| NULL|Awesome Games Pla...|    NULL|\n",
            "| NULL| NULL|Filmed by Lucas F...|    NULL|\n",
            "| NULL| NULL|    Beautiful Thing:|    NULL|\n",
            "| NULL| NULL|Bon Appétit Test ...|    NULL|\n",
            "| NULL| NULL|Filmed at the Bee...|    NULL|\n",
            "| NULL| NULL|Britton Lane: htt...|    NULL|\n",
            "| NULL| NULL|Allie Sherlock: h...|    NULL|\n",
            "| NULL| NULL|Browse thousands ...|    NULL|\n",
            "| NULL| NULL|   ABOUT BON APPÉTIT|    NULL|\n",
            "| NULL| NULL|Catch Terry Crews...|    NULL|\n",
            "| NULL| NULL|    ABOUT EPICURIOUS|    NULL|\n",
            "| NULL| NULL|Check Out My WEBS...|    NULL|\n",
            "| NULL| NULL|    ABOUT TEEN VOGUE|    NULL|\n",
            "| NULL| NULL|Check out the Dam...|    NULL|\n",
            "| NULL| NULL|         ABOUT VOGUE|    NULL|\n",
            "| NULL| NULL|          City Song:|    NULL|\n",
            "| NULL| NULL|Filmed at the Wal...|    NULL|\n",
            "| NULL| NULL|            Clearly:|    NULL|\n",
            "| NULL| NULL|Black Panther is ...|    NULL|\n",
            "| NULL| NULL|Cook with confide...|    NULL|\n",
            "+-----+-----+--------------------+--------+\n",
            "only showing top 20 rows\n",
            "\n"
          ]
        }
      ]
    },
    {
      "cell_type": "code",
      "source": [
        "from pyspark.sql.functions import desc\n",
        "df.sort(col('likes').desc()).show()"
      ],
      "metadata": {
        "colab": {
          "base_uri": "https://localhost:8080/"
        },
        "id": "AqZE84vqUD83",
        "outputId": "1ced4ba8-d767-46a3-8c45-786ea097e6d7"
      },
      "execution_count": 54,
      "outputs": [
        {
          "output_type": "stream",
          "name": "stdout",
          "text": [
            "+-----+-------+-----------+--------+\n",
            "|likes|  views|   video_id|dislikes|\n",
            "+-----+-------+-----------+--------+\n",
            "|99990|2079137|2v4-L4PkV9U|    2844|\n",
            "|99973|2465294|DSRSgMp5X1w|   17299|\n",
            "|99952|3313449|LdhQzXHYLZ4|    5142|\n",
            "| 9991|  98513|eBnXbImHX-g|      91|\n",
            "| 9988|1162843|kz1xzBYppW8|    2555|\n",
            "|99851|1053828|vRf3azp1pak|    1226|\n",
            "| 9984| 206669|Lydh_saD9EQ|      88|\n",
            "| 9984| 254807|Ps7GzIV2KP0|     294|\n",
            "|  998|  71308|Hkx5fveyjIs|      74|\n",
            "|  998|  54348|Pr6zjrF0Djg|      75|\n",
            "|  998|  82087|hX643KbiI4s|      93|\n",
            "|99761|1454233|h5CLO2n6OxQ|     692|\n",
            "|  997|  27234|nb42DxagyOE|      13|\n",
            "| 9969| 273905|c47kn_Y4y8A|     127|\n",
            "| 9946| 242329|QXcbVHFE2bo|     148|\n",
            "| 9939| 235293|1iGBHh1q0Kg|     232|\n",
            "| 9926| 467558|hHFuZVGpBC0|     342|\n",
            "|99254|1552618|0v-6AylRH68|    5195|\n",
            "| 9925| 166235|flLc6LmAG6c|      50|\n",
            "| 9921| 594536|e9NOwaiXqqA|     323|\n",
            "+-----+-------+-----------+--------+\n",
            "only showing top 20 rows\n",
            "\n"
          ]
        }
      ]
    },
    {
      "cell_type": "code",
      "source": [
        "df.orderBy(col('likes').desc(),col('dislikes').desc()).show()"
      ],
      "metadata": {
        "colab": {
          "base_uri": "https://localhost:8080/"
        },
        "id": "R5UE1cp2Uo0H",
        "outputId": "21322b3e-cd13-4daf-d633-b0260af95705"
      },
      "execution_count": 58,
      "outputs": [
        {
          "output_type": "stream",
          "name": "stdout",
          "text": [
            "+-----+-------+-----------+--------+\n",
            "|likes|  views|   video_id|dislikes|\n",
            "+-----+-------+-----------+--------+\n",
            "|99990|2079137|2v4-L4PkV9U|    2844|\n",
            "|99973|2465294|DSRSgMp5X1w|   17299|\n",
            "|99952|3313449|LdhQzXHYLZ4|    5142|\n",
            "| 9991|  98513|eBnXbImHX-g|      91|\n",
            "| 9988|1162843|kz1xzBYppW8|    2555|\n",
            "|99851|1053828|vRf3azp1pak|    1226|\n",
            "| 9984| 206669|Lydh_saD9EQ|      88|\n",
            "| 9984| 254807|Ps7GzIV2KP0|     294|\n",
            "|  998|  82087|hX643KbiI4s|      93|\n",
            "|  998|  54348|Pr6zjrF0Djg|      75|\n",
            "|  998|  71308|Hkx5fveyjIs|      74|\n",
            "|99761|1454233|h5CLO2n6OxQ|     692|\n",
            "|  997|  27234|nb42DxagyOE|      13|\n",
            "| 9969| 273905|c47kn_Y4y8A|     127|\n",
            "| 9946| 242329|QXcbVHFE2bo|     148|\n",
            "| 9939| 235293|1iGBHh1q0Kg|     232|\n",
            "| 9926| 467558|hHFuZVGpBC0|     342|\n",
            "|99254|1552618|0v-6AylRH68|    5195|\n",
            "| 9925| 166235|flLc6LmAG6c|      50|\n",
            "| 9921| 594536|e9NOwaiXqqA|     323|\n",
            "+-----+-------+-----------+--------+\n",
            "only showing top 20 rows\n",
            "\n"
          ]
        }
      ]
    },
    {
      "cell_type": "code",
      "source": [
        "top_10_likes = df.orderBy(col('likes').desc()).limit(10)\n",
        "top_10_likes.show()"
      ],
      "metadata": {
        "colab": {
          "base_uri": "https://localhost:8080/"
        },
        "id": "dK19TCBpUz7n",
        "outputId": "089fd18c-c82a-4aed-b8f2-3eabcaac1e02"
      },
      "execution_count": 59,
      "outputs": [
        {
          "output_type": "stream",
          "name": "stdout",
          "text": [
            "+-----+-------+-----------+--------+\n",
            "|likes|  views|   video_id|dislikes|\n",
            "+-----+-------+-----------+--------+\n",
            "|99990|2079137|2v4-L4PkV9U|    2844|\n",
            "|99973|2465294|DSRSgMp5X1w|   17299|\n",
            "|99952|3313449|LdhQzXHYLZ4|    5142|\n",
            "| 9991|  98513|eBnXbImHX-g|      91|\n",
            "| 9988|1162843|kz1xzBYppW8|    2555|\n",
            "|99851|1053828|vRf3azp1pak|    1226|\n",
            "| 9984| 206669|Lydh_saD9EQ|      88|\n",
            "| 9984| 254807|Ps7GzIV2KP0|     294|\n",
            "|  998|  71308|Hkx5fveyjIs|      74|\n",
            "|  998|  54348|Pr6zjrF0Djg|      75|\n",
            "+-----+-------+-----------+--------+\n",
            "\n"
          ]
        }
      ]
    },
    {
      "cell_type": "markdown",
      "source": [
        "## Funciones WithColumn y withColumnRenamed"
      ],
      "metadata": {
        "id": "e_FEMDtkVblX"
      }
    },
    {
      "cell_type": "markdown",
      "source": [
        "WithColumn sirve para crear columnas"
      ],
      "metadata": {
        "id": "iu_DRV82WLm3"
      }
    },
    {
      "cell_type": "code",
      "source": [
        "df_valoracion = df.withColumn('valoracion', (col('likes') - col('dislikes')))"
      ],
      "metadata": {
        "id": "HaJfxDUFVgkP"
      },
      "execution_count": 60,
      "outputs": []
    },
    {
      "cell_type": "code",
      "source": [
        "df.printSchema()\n",
        "df_valoracion.printSchema()"
      ],
      "metadata": {
        "colab": {
          "base_uri": "https://localhost:8080/"
        },
        "id": "h6nUUj3gWFSd",
        "outputId": "c5859a07-1d22-4df9-d403-ffd67a6f272a"
      },
      "execution_count": 61,
      "outputs": [
        {
          "output_type": "stream",
          "name": "stdout",
          "text": [
            "root\n",
            " |-- likes: string (nullable = true)\n",
            " |-- views: string (nullable = true)\n",
            " |-- video_id: string (nullable = true)\n",
            " |-- dislikes: string (nullable = true)\n",
            "\n",
            "root\n",
            " |-- likes: string (nullable = true)\n",
            " |-- views: string (nullable = true)\n",
            " |-- video_id: string (nullable = true)\n",
            " |-- dislikes: string (nullable = true)\n",
            " |-- valoracion: double (nullable = true)\n",
            "\n"
          ]
        }
      ]
    },
    {
      "cell_type": "code",
      "source": [
        "df_valoracion1 = (df.withColumn('valoracion', (col('likes') - col('dislikes')))\n",
        "                    .withColumn('% 10',col('valoracion') % 10)\n",
        ")"
      ],
      "metadata": {
        "id": "ZGsV0HN6WKsb"
      },
      "execution_count": 73,
      "outputs": []
    },
    {
      "cell_type": "code",
      "source": [
        "df_valoracion1.printSchema()"
      ],
      "metadata": {
        "colab": {
          "base_uri": "https://localhost:8080/"
        },
        "id": "B2i0MuxSW-e_",
        "outputId": "b904ac14-850e-444c-9a38-1cd506c2110f"
      },
      "execution_count": 74,
      "outputs": [
        {
          "output_type": "stream",
          "name": "stdout",
          "text": [
            "root\n",
            " |-- likes: string (nullable = true)\n",
            " |-- views: string (nullable = true)\n",
            " |-- video_id: string (nullable = true)\n",
            " |-- dislikes: string (nullable = true)\n",
            " |-- valoracion: double (nullable = true)\n",
            " |-- % 10: double (nullable = true)\n",
            "\n"
          ]
        }
      ]
    },
    {
      "cell_type": "markdown",
      "source": [
        "WithColumnRenamed, únicamente para cambiar nombre de columas de un dataframe"
      ],
      "metadata": {
        "id": "kKjegVYZXTOX"
      }
    },
    {
      "cell_type": "code",
      "source": [
        "df_renombrado = df.withColumnRenamed('video_id','id_video')\n",
        "df.printSchema()\n",
        "df_renombrado.printSchema()"
      ],
      "metadata": {
        "colab": {
          "base_uri": "https://localhost:8080/"
        },
        "id": "sWGIYRm4XNRv",
        "outputId": "d1daa5e6-fad0-4a23-b4c1-0e277469b341"
      },
      "execution_count": 75,
      "outputs": [
        {
          "output_type": "stream",
          "name": "stdout",
          "text": [
            "root\n",
            " |-- likes: string (nullable = true)\n",
            " |-- views: string (nullable = true)\n",
            " |-- video_id: string (nullable = true)\n",
            " |-- dislikes: string (nullable = true)\n",
            "\n",
            "root\n",
            " |-- likes: string (nullable = true)\n",
            " |-- views: string (nullable = true)\n",
            " |-- id_video: string (nullable = true)\n",
            " |-- dislikes: string (nullable = true)\n",
            "\n"
          ]
        }
      ]
    },
    {
      "cell_type": "markdown",
      "source": [
        "No arroja error si una columna no existe"
      ],
      "metadata": {
        "id": "s5y7SgZzXoHo"
      }
    },
    {
      "cell_type": "code",
      "source": [
        "df_renombrado = df.withColumnRenamed('videonoexiste_id','id_video')\n",
        "df.printSchema()\n",
        "df_renombrado.printSchema()"
      ],
      "metadata": {
        "colab": {
          "base_uri": "https://localhost:8080/"
        },
        "id": "u3kRoTfwXsA_",
        "outputId": "4eeee38b-3886-41e4-8bc7-9970a13f3504"
      },
      "execution_count": 76,
      "outputs": [
        {
          "output_type": "stream",
          "name": "stdout",
          "text": [
            "root\n",
            " |-- likes: string (nullable = true)\n",
            " |-- views: string (nullable = true)\n",
            " |-- video_id: string (nullable = true)\n",
            " |-- dislikes: string (nullable = true)\n",
            "\n",
            "root\n",
            " |-- likes: string (nullable = true)\n",
            " |-- views: string (nullable = true)\n",
            " |-- video_id: string (nullable = true)\n",
            " |-- dislikes: string (nullable = true)\n",
            "\n"
          ]
        }
      ]
    },
    {
      "cell_type": "markdown",
      "source": [
        "## Drop , Sample y RandomSplit"
      ],
      "metadata": {
        "id": "ZAh_fc2VX92v"
      }
    },
    {
      "cell_type": "code",
      "source": [
        "df = spark.read.parquet(\"/content/dataPARQUET.parquet\")\n",
        "df.printSchema()"
      ],
      "metadata": {
        "colab": {
          "base_uri": "https://localhost:8080/"
        },
        "id": "vPq9LD5-X7In",
        "outputId": "a58efd4f-9c39-40d9-db80-8a2eb3d44290"
      },
      "execution_count": 77,
      "outputs": [
        {
          "output_type": "stream",
          "name": "stdout",
          "text": [
            "root\n",
            " |-- video_id: string (nullable = true)\n",
            " |-- trending_date: string (nullable = true)\n",
            " |-- title: string (nullable = true)\n",
            " |-- channel_title: string (nullable = true)\n",
            " |-- category_id: string (nullable = true)\n",
            " |-- publish_time: string (nullable = true)\n",
            " |-- tags: string (nullable = true)\n",
            " |-- views: string (nullable = true)\n",
            " |-- likes: string (nullable = true)\n",
            " |-- dislikes: string (nullable = true)\n",
            " |-- comment_count: string (nullable = true)\n",
            " |-- thumbnail_link: string (nullable = true)\n",
            " |-- comments_disabled: string (nullable = true)\n",
            " |-- ratings_disabled: string (nullable = true)\n",
            " |-- video_error_or_removed: string (nullable = true)\n",
            " |-- description: string (nullable = true)\n",
            "\n"
          ]
        }
      ]
    },
    {
      "cell_type": "code",
      "source": [
        "df_util = df.drop('comments_disabled','ratings_disabled','video_error_or_removed','description')\n",
        "df_util.printSchema()"
      ],
      "metadata": {
        "colab": {
          "base_uri": "https://localhost:8080/"
        },
        "id": "hUdB-u8xYNdO",
        "outputId": "8b7bd9cd-49dd-4bba-acd5-21bd67f6b237"
      },
      "execution_count": 78,
      "outputs": [
        {
          "output_type": "stream",
          "name": "stdout",
          "text": [
            "root\n",
            " |-- video_id: string (nullable = true)\n",
            " |-- trending_date: string (nullable = true)\n",
            " |-- title: string (nullable = true)\n",
            " |-- channel_title: string (nullable = true)\n",
            " |-- category_id: string (nullable = true)\n",
            " |-- publish_time: string (nullable = true)\n",
            " |-- tags: string (nullable = true)\n",
            " |-- views: string (nullable = true)\n",
            " |-- likes: string (nullable = true)\n",
            " |-- dislikes: string (nullable = true)\n",
            " |-- comment_count: string (nullable = true)\n",
            " |-- thumbnail_link: string (nullable = true)\n",
            "\n"
          ]
        }
      ]
    },
    {
      "cell_type": "code",
      "source": [
        "print(len(df_util.columns))"
      ],
      "metadata": {
        "colab": {
          "base_uri": "https://localhost:8080/"
        },
        "id": "fR6zsAmXYY4P",
        "outputId": "ea3e4fbe-f204-4ec8-aed3-7ba43da5f680"
      },
      "execution_count": 98,
      "outputs": [
        {
          "output_type": "stream",
          "name": "stdout",
          "text": [
            "12\n"
          ]
        }
      ]
    },
    {
      "cell_type": "markdown",
      "source": [
        "Sample"
      ],
      "metadata": {
        "id": "wJldxyWuY0P3"
      }
    },
    {
      "cell_type": "code",
      "source": [
        "df_muestra = df.sample(0.8)\n",
        "num_filas = df.count()\n",
        "num_filas_muestra = df_muestra.count()"
      ],
      "metadata": {
        "id": "vWZPrCI7YzwP"
      },
      "execution_count": 99,
      "outputs": []
    },
    {
      "cell_type": "code",
      "source": [
        "print(\"El 80% de filas del dataframe original es {}\".format(num_filas - (num_filas*0.2)))"
      ],
      "metadata": {
        "colab": {
          "base_uri": "https://localhost:8080/"
        },
        "id": "y0LNNmLRZEK_",
        "outputId": "5969b77c-ef2b-4f56-8048-c19391cfdd6a"
      },
      "execution_count": 101,
      "outputs": [
        {
          "output_type": "stream",
          "name": "stdout",
          "text": [
            "El 80% de filas del dataframe original es 38509.6\n"
          ]
        }
      ]
    },
    {
      "cell_type": "code",
      "source": [
        "df_muestra = df.sample(fraction = 0.8, seed = 1234)"
      ],
      "metadata": {
        "id": "ArqjaAcjZh6_"
      },
      "execution_count": 102,
      "outputs": []
    },
    {
      "cell_type": "code",
      "source": [
        "df_muestra = df.sample(withReplacement = True, fraction = 0.8, seed = 1234)"
      ],
      "metadata": {
        "id": "QzxNE6VGZpu4"
      },
      "execution_count": 103,
      "outputs": []
    },
    {
      "cell_type": "code",
      "source": [
        "## Random Split\n",
        "df_train, df_test = df.randomSplit([0.8,0.2], seed = 1234)"
      ],
      "metadata": {
        "id": "lRIFaSvEZ3Qx"
      },
      "execution_count": 104,
      "outputs": []
    },
    {
      "cell_type": "code",
      "source": [
        "print(\"Las filas del dataframe train es {}\".format(df_train.count()))\n",
        "print(df_test.count())"
      ],
      "metadata": {
        "colab": {
          "base_uri": "https://localhost:8080/"
        },
        "id": "YULS3J-0Z7di",
        "outputId": "b67c7335-dfbc-4a04-dd73-e701e210905b"
      },
      "execution_count": 106,
      "outputs": [
        {
          "output_type": "stream",
          "name": "stdout",
          "text": [
            "Las filas del dataframe train es 38506\n",
            "9631\n"
          ]
        }
      ]
    }
  ]
}